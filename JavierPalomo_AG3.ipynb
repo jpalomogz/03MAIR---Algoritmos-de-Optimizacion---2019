{
  "nbformat": 4,
  "nbformat_minor": 0,
  "metadata": {
    "colab": {
      "name": "JavierPalomo-AG3.ipynb",
      "provenance": [],
      "collapsed_sections": [],
      "authorship_tag": "ABX9TyMsirZuX4+3GUW6UAKgz3Ms",
      "include_colab_link": true
    },
    "kernelspec": {
      "name": "python3",
      "display_name": "Python 3"
    }
  },
  "cells": [
    {
      "cell_type": "markdown",
      "metadata": {
        "id": "view-in-github",
        "colab_type": "text"
      },
      "source": [
        "<a href=\"https://colab.research.google.com/github/jpalomogz/03MAIR---Algoritmos-de-Optimizacion---2019/blob/master/JavierPalomo_AG3.ipynb\" target=\"_parent\"><img src=\"https://colab.research.google.com/assets/colab-badge.svg\" alt=\"Open In Colab\"/></a>"
      ]
    },
    {
      "cell_type": "markdown",
      "metadata": {
        "id": "mfzjm7FMpGrV",
        "colab_type": "text"
      },
      "source": [
        "Nombre: Javier Palomo Gonzalez<br>\n",
        "Link: https://colab.research.google.com/drive/1Nu-ZUMoZN8nA-RR0ysV3urtVBDJAksJE <br>\n",
        "Actividad Guiada 3"
      ]
    },
    {
      "cell_type": "code",
      "metadata": {
        "id": "3h1RWS15pbK4",
        "colab_type": "code",
        "outputId": "4194ef20-906f-4676-d62a-b10c34868df7",
        "colab": {
          "base_uri": "https://localhost:8080/",
          "height": 34
        }
      },
      "source": [
        "import urllib.request\n",
        "\n",
        "file = \"swiss42.tsp\"\n",
        "\n",
        "urllib.request.urlretrieve(\"http://elib.zib.de/pub/mp-testdata/tsp/tsplib/tsp/swiss42.tsp\", file)"
      ],
      "execution_count": 0,
      "outputs": [
        {
          "output_type": "execute_result",
          "data": {
            "text/plain": [
              "('swiss42.tsp', <http.client.HTTPMessage at 0x7fe62fc54a20>)"
            ]
          },
          "metadata": {
            "tags": []
          },
          "execution_count": 31
        }
      ]
    },
    {
      "cell_type": "code",
      "metadata": {
        "id": "-ufCYmdTrz8P",
        "colab_type": "code",
        "outputId": "e74a3483-5d4b-48cc-97e0-6d508b948f50",
        "colab": {
          "base_uri": "https://localhost:8080/",
          "height": 105
        }
      },
      "source": [
        "!pip install tsplib95"
      ],
      "execution_count": 0,
      "outputs": [
        {
          "output_type": "stream",
          "text": [
            "Requirement already satisfied: tsplib95 in /usr/local/lib/python3.6/dist-packages (0.6.1)\n",
            "Requirement already satisfied: Click>=6.0 in /usr/local/lib/python3.6/dist-packages (from tsplib95) (7.0)\n",
            "Requirement already satisfied: networkx~=2.1 in /usr/local/lib/python3.6/dist-packages (from tsplib95) (2.4)\n",
            "Requirement already satisfied: decorator>=4.3.0 in /usr/local/lib/python3.6/dist-packages (from networkx~=2.1->tsplib95) (4.4.1)\n"
          ],
          "name": "stdout"
        }
      ]
    },
    {
      "cell_type": "code",
      "metadata": {
        "id": "x9VagCo7sAll",
        "colab_type": "code",
        "colab": {}
      },
      "source": [
        "import tsplib95\n",
        "import random\n",
        "import math"
      ],
      "execution_count": 0,
      "outputs": []
    },
    {
      "cell_type": "code",
      "metadata": {
        "id": "HuGglctgsH24",
        "colab_type": "code",
        "colab": {}
      },
      "source": [
        "problem = tsplib95.load_problem(file)\n",
        "\n",
        "# Nodos\n",
        "Nodos = list(problem.get_nodes())\n",
        "\n",
        "# Aristas\n",
        "Aristas = list(problem.get_edges())"
      ],
      "execution_count": 0,
      "outputs": []
    },
    {
      "cell_type": "code",
      "metadata": {
        "id": "zOxEoY9rtiB8",
        "colab_type": "code",
        "outputId": "0e7f31ef-55cd-4163-d6df-598a39ff8675",
        "colab": {
          "base_uri": "https://localhost:8080/",
          "height": 34
        }
      },
      "source": [
        "#Se genera una solucion aleatoria con comienzo en en el nodo 0\n",
        "def crear_solucion(Nodos): \n",
        "  solucion = [0]\n",
        "  for i in range(len(Nodos)-1):\n",
        "    solucion = solucion + [random.choice(list(set(Nodos) - set(solucion)))]\n",
        "  return solucion \n",
        "\n",
        "#Devuelve la distancia entre dos nodos\n",
        "def distancia(a,b, problem):\n",
        "  return problem.wfunc(a,b)\n",
        "\n",
        "#Devuelve la distancia total de una trayectoria\n",
        "def distancia_total(solucion, problem):\n",
        "  distancia_total = 0\n",
        "  for i in range(len(solucion)-1):\n",
        "    distancia_total += distancia(solucion[i] ,solucion[i+1] ,  problem)\n",
        "  return distancia_total + distancia(solucion[len(solucion)-1] ,solucion[0], problem)\n",
        "\n",
        "solucion = crear_solucion(Nodos)\n",
        "\n",
        "distancia_total(solucion,problem)"
      ],
      "execution_count": 0,
      "outputs": [
        {
          "output_type": "execute_result",
          "data": {
            "text/plain": [
              "4563"
            ]
          },
          "metadata": {
            "tags": []
          },
          "execution_count": 35
        }
      ]
    },
    {
      "cell_type": "markdown",
      "metadata": {
        "id": "xseTRt9dtWgL",
        "colab_type": "text"
      },
      "source": [
        "# **Busqueda Aleatoria**"
      ]
    },
    {
      "cell_type": "code",
      "metadata": {
        "id": "2sdM3O22sr-T",
        "colab_type": "code",
        "outputId": "fe79d674-faa1-4c46-88c3-c1e2836ebb47",
        "colab": {
          "base_uri": "https://localhost:8080/",
          "height": 54
        }
      },
      "source": [
        "def busqueda_aleatoria(problem, N):\n",
        "  mejor_solucion = crear_solucion(Nodos)\n",
        "  mejor_valor = distancia_total(mejor_solucion, problem)\n",
        "\n",
        "  for i in range(N):\n",
        "      solucion = crear_solucion(Nodos)\n",
        "      valor = distancia_total(solucion, problem)\n",
        "      if valor < mejor_valor:\n",
        "        mejor_solucion = solucion\n",
        "        mejor_valor = valor\n",
        "\n",
        "  print(\"La mejor solucion es \",mejor_valor,  mejor_solucion)\n",
        "   \n",
        "busqueda_aleatoria(problem, 20000)"
      ],
      "execution_count": 0,
      "outputs": [
        {
          "output_type": "stream",
          "text": [
            "La mejor solucion es  3655 [0, 39, 2, 4, 19, 32, 24, 6, 13, 18, 5, 37, 36, 35, 17, 34, 7, 38, 40, 41, 10, 11, 23, 20, 30, 22, 21, 33, 31, 25, 26, 16, 15, 27, 3, 14, 1, 29, 12, 8, 9, 28]\n"
          ],
          "name": "stdout"
        }
      ]
    },
    {
      "cell_type": "markdown",
      "metadata": {
        "id": "MCpf-S8SyZe9",
        "colab_type": "text"
      },
      "source": [
        "# **Generador de vecindad**"
      ]
    },
    {
      "cell_type": "code",
      "metadata": {
        "id": "-yQrmtmDyZrb",
        "colab_type": "code",
        "colab": {}
      },
      "source": [
        "def genera_vecina(solucion):\n",
        "  #Generador de soluciones vecinas: 2-opt (intercambiar 2 nodos) Si hay N nodos se generan (N-1)x(N-2)/2 soluciones\n",
        "  #print(solucion)\n",
        "  mejor_solucion = []\n",
        "  mejor_distancia = 10e100\n",
        "  for i in range(1,len(solucion)-1):\n",
        "    for j in range(i+1, len(solucion)):\n",
        "      vecina = solucion[:i] + [solucion[j]] + solucion[i+1:j] + [solucion[i]] + solucion[j+1:] \n",
        "      distancia_vecina = distancia_total(vecina, problem)\n",
        "      if distancia_vecina <= mejor_distancia:\n",
        "        mejor_distancia = distancia_vecina\n",
        "        mejor_solucion = vecina\n",
        "  return mejor_solucion\n",
        "      \n",
        "solucion = crear_solucion(Nodos)\n",
        "mejor_solucion = genera_vecina(solucion)"
      ],
      "execution_count": 0,
      "outputs": []
    },
    {
      "cell_type": "code",
      "metadata": {
        "id": "LbFue-0D0TqF",
        "colab_type": "code",
        "outputId": "0191ce10-de0a-4cc1-ed79-48637f16792f",
        "colab": {
          "base_uri": "https://localhost:8080/",
          "height": 54
        }
      },
      "source": [
        "#####################################################################\n",
        "def busqueda_local(problem, N):\n",
        "  #problem = datos del problema\n",
        "  #N = numero de iteraciones\n",
        "  \n",
        "  mejor_solucion = []\n",
        "  mejor_distancia = 10e100\n",
        "  \n",
        "  solucion_referencia = crear_solucion(Nodos)\n",
        "  \n",
        "  for i in range(N):\n",
        "    vecina = genera_vecina(solucion_referencia)\n",
        "    distancia_vecina = distancia_total(vecina, problem)\n",
        "    if distancia_vecina <= mejor_distancia:\n",
        "      mejor_solucion = vecina\n",
        "      mejor_distancia = distancia_vecina       \n",
        "      solucion_referencia = vecina\n",
        "\n",
        "  print(\"La mejor solución encontrada es \" , mejor_distancia , mejor_solucion)\n",
        "\n",
        "busqueda_local(problem,1000)"
      ],
      "execution_count": 0,
      "outputs": [
        {
          "output_type": "stream",
          "text": [
            "La mejor solución encontrada es  1740 [0, 4, 41, 23, 9, 30, 29, 8, 10, 25, 11, 12, 18, 26, 14, 15, 16, 19, 13, 5, 7, 37, 36, 35, 17, 1, 6, 3, 32, 31, 20, 33, 34, 38, 24, 40, 21, 39, 22, 28, 2, 27]\n"
          ],
          "name": "stdout"
        }
      ]
    },
    {
      "cell_type": "markdown",
      "metadata": {
        "id": "koxhr0Pz45zr",
        "colab_type": "text"
      },
      "source": [
        "# **Recocido simulado**"
      ]
    },
    {
      "cell_type": "code",
      "metadata": {
        "id": "wBewzNO746K5",
        "colab_type": "code",
        "outputId": "cc28b1d0-8984-43f6-ba21-92032f322ff6",
        "colab": {
          "base_uri": "https://localhost:8080/",
          "height": 71
        }
      },
      "source": [
        "def genera_vecina_aleatorio(solucion):\n",
        "  #Generador de 1 solucion vecina 2-opt (intercambiar 2 nodos)\n",
        "  #Se puede mejorar haciendo que la elección no se uniforme sino entre las que estén más proximas\n",
        "  i = random.choice(range(1, len(solucion)) )\n",
        "  j = random.choice(list(set(range(1, len(solucion))) - {i}))\n",
        "  if j<i:\n",
        "    i,j=j,i\n",
        "  vecina = list(solucion[:i] + [solucion[j]] + solucion[i+1:j] + [solucion[i]] + solucion[j+1:])\n",
        "  return vecina\n",
        "\n",
        "solucion = crear_solucion(Nodos)\n",
        "print(solucion,\"\\n\", genera_vecina_aleatorio(genera_vecina_aleatorio(solucion)))"
      ],
      "execution_count": 0,
      "outputs": [
        {
          "output_type": "stream",
          "text": [
            "[0, 14, 18, 26, 6, 39, 9, 41, 20, 30, 13, 7, 4, 17, 35, 28, 8, 11, 3, 16, 5, 25, 23, 29, 40, 38, 36, 2, 12, 32, 10, 15, 27, 19, 37, 1, 24, 21, 22, 34, 33, 31] \n",
            " [0, 14, 18, 26, 6, 39, 3, 41, 20, 24, 13, 7, 4, 17, 35, 28, 8, 11, 9, 16, 5, 25, 23, 29, 40, 38, 36, 2, 12, 32, 10, 15, 27, 19, 37, 1, 30, 21, 22, 34, 33, 31]\n"
          ],
          "name": "stdout"
        }
      ]
    },
    {
      "cell_type": "code",
      "metadata": {
        "id": "Cie_SGR17oB-",
        "colab_type": "code",
        "colab": {}
      },
      "source": [
        "#Funcion de probabilidad para determinar si se cambia \n",
        "#    a una solución peor respecto a la de referencia(exponencial)\n",
        "def probabilidad(T,d):\n",
        "  if random.random() <= math.exp(-1*d / T)   :\n",
        "    return True\n",
        "  else:\n",
        "    return False\n",
        "\n",
        "\n",
        "def bajar_temperatura(T):\n",
        "  return T*.9999"
      ],
      "execution_count": 0,
      "outputs": []
    },
    {
      "cell_type": "code",
      "metadata": {
        "id": "n2-7qCMF73ji",
        "colab_type": "code",
        "outputId": "966b8fcb-26d8-4c00-81dc-e1f1b1c3db8a",
        "colab": {
          "base_uri": "https://localhost:8080/",
          "height": 1000
        }
      },
      "source": [
        "#####################################################################\n",
        "def recocido_simulado(problem, TEMPERATURA=1000):\n",
        "  #problem = datos del problema\n",
        "\n",
        "  solucion_referencia = crear_solucion(Nodos)\n",
        "  distancia_referencia = distancia_total(solucion_referencia, problem)\n",
        "  \n",
        "  mejor_solucion = []\n",
        "  mejor_distancia = 10e100\n",
        "\n",
        "  while TEMPERATURA > 1:\n",
        "    #Genera una solución vecina(aleatoria)\n",
        "    vecina = genera_vecina_aleatorio(solucion_referencia) \n",
        "    \n",
        "    #Calcula su valor(distancia)\n",
        "    distancia_vecina = distancia_total(vecina, problem)\n",
        "    \n",
        "    #Si es la mejor solución de todas se guarda\n",
        "    if distancia_vecina < mejor_distancia:\n",
        "      mejor_solucion = vecina\n",
        "      mejor_distancia = distancia_vecina\n",
        "      print('\\t****Encontrada mejor solucion:', mejor_distancia , mejor_solucion, '\\n')\n",
        "    \n",
        "    #Si la nueva vecina es mejor se cambia y si es peor se cambia según \n",
        "    # una probabilidad dependiente de T y de |distancia_referencia - distancia_vecina|\n",
        "    p = probabilidad(TEMPERATURA, abs(distancia_referencia - distancia_vecina) )\n",
        "    if distancia_vecina < distancia_referencia or p :\n",
        "      solucion_referencia = vecina\n",
        "      distancia_referencia = distancia_vecina\n",
        "    \n",
        "    TEMPERATURA = bajar_temperatura(TEMPERATURA)\n",
        "\n",
        "  print(\"La mejor solución encontrada es :\" , mejor_distancia, mejor_solucion  )\n",
        "  return mejor_solucion\n",
        "\n",
        "sol = recocido_simulado(problem, TEMPERATURA=100000)"
      ],
      "execution_count": 0,
      "outputs": [
        {
          "output_type": "stream",
          "text": [
            "\t****Encontrada mejor solucion: 5328 [0, 8, 20, 29, 28, 16, 23, 14, 4, 21, 6, 12, 36, 9, 27, 5, 22, 17, 40, 31, 41, 1, 15, 2, 18, 3, 39, 38, 30, 7, 33, 24, 26, 13, 11, 10, 35, 25, 32, 34, 37, 19] \n",
            "\n",
            "\t****Encontrada mejor solucion: 5240 [0, 8, 20, 16, 28, 29, 23, 14, 4, 21, 6, 12, 36, 9, 27, 5, 22, 17, 40, 31, 41, 1, 15, 2, 18, 3, 39, 38, 30, 7, 33, 24, 26, 13, 11, 10, 35, 25, 32, 34, 37, 19] \n",
            "\n",
            "\t****Encontrada mejor solucion: 5050 [0, 8, 20, 16, 28, 29, 23, 13, 4, 21, 6, 12, 36, 9, 27, 5, 22, 17, 40, 10, 41, 32, 15, 2, 18, 3, 39, 38, 30, 7, 33, 24, 26, 14, 11, 31, 35, 25, 1, 34, 37, 19] \n",
            "\n",
            "\t****Encontrada mejor solucion: 5018 [0, 8, 20, 16, 28, 29, 23, 13, 4, 21, 6, 12, 36, 9, 27, 5, 22, 17, 40, 10, 41, 32, 15, 37, 18, 3, 39, 38, 30, 7, 33, 24, 26, 14, 11, 31, 35, 25, 1, 34, 2, 19] \n",
            "\n",
            "\t****Encontrada mejor solucion: 4965 [0, 8, 20, 36, 35, 25, 23, 13, 4, 21, 6, 12, 16, 9, 27, 5, 22, 17, 40, 10, 41, 32, 15, 7, 18, 3, 14, 38, 30, 37, 33, 24, 26, 39, 11, 31, 28, 29, 1, 34, 2, 19] \n",
            "\n",
            "\t****Encontrada mejor solucion: 4949 [0, 7, 20, 36, 35, 25, 23, 13, 4, 21, 6, 12, 16, 9, 27, 5, 22, 17, 40, 10, 41, 32, 15, 8, 18, 3, 14, 38, 30, 37, 33, 24, 26, 39, 11, 31, 28, 29, 1, 34, 2, 19] \n",
            "\n",
            "\t****Encontrada mejor solucion: 4727 [0, 7, 20, 36, 35, 25, 23, 13, 4, 21, 6, 12, 16, 9, 27, 5, 22, 11, 40, 10, 41, 32, 15, 8, 18, 3, 14, 38, 30, 37, 33, 24, 26, 39, 17, 31, 28, 29, 1, 34, 2, 19] \n",
            "\n",
            "\t****Encontrada mejor solucion: 4633 [0, 7, 20, 36, 35, 25, 23, 13, 4, 21, 6, 12, 30, 9, 27, 5, 22, 11, 40, 10, 41, 32, 15, 8, 18, 3, 14, 38, 16, 37, 33, 24, 26, 39, 17, 31, 28, 29, 1, 34, 2, 19] \n",
            "\n",
            "\t****Encontrada mejor solucion: 4546 [0, 7, 20, 36, 35, 25, 23, 13, 5, 21, 6, 12, 30, 9, 27, 4, 22, 11, 40, 10, 41, 32, 15, 8, 18, 3, 14, 38, 16, 37, 33, 24, 26, 39, 17, 31, 28, 29, 1, 34, 2, 19] \n",
            "\n",
            "\t****Encontrada mejor solucion: 4499 [0, 7, 20, 36, 35, 25, 18, 13, 5, 21, 6, 12, 30, 9, 32, 4, 22, 11, 40, 10, 41, 27, 15, 8, 23, 3, 14, 38, 16, 37, 33, 24, 26, 39, 17, 31, 28, 29, 1, 34, 2, 19] \n",
            "\n",
            "\t****Encontrada mejor solucion: 4463 [0, 7, 20, 9, 35, 13, 18, 25, 40, 21, 6, 12, 4, 24, 32, 3, 22, 11, 5, 10, 17, 27, 30, 8, 23, 15, 31, 38, 16, 37, 14, 36, 26, 39, 41, 33, 28, 29, 1, 34, 2, 19] \n",
            "\n",
            "\t****Encontrada mejor solucion: 4296 [0, 7, 20, 9, 35, 13, 18, 25, 40, 21, 6, 12, 10, 24, 32, 3, 22, 11, 5, 4, 17, 27, 30, 8, 23, 15, 31, 38, 16, 37, 14, 36, 26, 39, 41, 33, 28, 29, 1, 34, 2, 19] \n",
            "\n",
            "\t****Encontrada mejor solucion: 4255 [0, 5, 25, 12, 18, 24, 6, 11, 19, 29, 34, 8, 2, 10, 4, 37, 27, 22, 40, 3, 21, 38, 9, 13, 28, 1, 30, 33, 14, 36, 31, 20, 26, 32, 17, 41, 23, 39, 15, 7, 16, 35] \n",
            "\n",
            "\t****Encontrada mejor solucion: 4244 [0, 5, 27, 40, 18, 31, 35, 13, 3, 1, 34, 39, 6, 14, 25, 19, 15, 22, 28, 16, 32, 2, 12, 11, 23, 41, 24, 37, 30, 17, 29, 9, 21, 38, 8, 7, 4, 10, 26, 36, 33, 20] \n",
            "\n",
            "\t****Encontrada mejor solucion: 4236 [0, 5, 27, 40, 18, 31, 35, 13, 3, 28, 34, 39, 6, 14, 25, 19, 15, 22, 1, 16, 32, 2, 12, 11, 23, 41, 24, 37, 30, 17, 29, 9, 21, 38, 8, 7, 4, 10, 26, 36, 33, 20] \n",
            "\n",
            "\t****Encontrada mejor solucion: 3864 [0, 5, 27, 40, 18, 14, 35, 13, 29, 28, 34, 39, 6, 31, 25, 19, 15, 37, 1, 16, 32, 2, 12, 11, 23, 41, 24, 22, 30, 17, 3, 9, 21, 38, 8, 7, 4, 10, 26, 36, 33, 20] \n",
            "\n",
            "\t****Encontrada mejor solucion: 3851 [0, 5, 27, 30, 18, 14, 35, 13, 29, 28, 34, 39, 6, 31, 25, 19, 15, 37, 1, 16, 32, 2, 12, 11, 23, 41, 24, 22, 40, 17, 3, 9, 21, 38, 8, 7, 4, 10, 26, 36, 33, 20] \n",
            "\n",
            "\t****Encontrada mejor solucion: 3841 [0, 33, 31, 5, 7, 35, 14, 8, 11, 36, 19, 18, 25, 3, 26, 16, 22, 24, 13, 6, 4, 1, 28, 27, 37, 17, 32, 2, 39, 29, 38, 40, 23, 21, 9, 30, 10, 12, 15, 41, 20, 34] \n",
            "\n",
            "\t****Encontrada mejor solucion: 3805 [0, 33, 31, 5, 7, 35, 14, 8, 11, 36, 19, 18, 25, 3, 26, 4, 22, 24, 13, 6, 16, 1, 28, 27, 37, 17, 32, 2, 39, 29, 38, 40, 23, 21, 9, 30, 10, 12, 15, 41, 20, 34] \n",
            "\n",
            "\t****Encontrada mejor solucion: 3696 [0, 33, 31, 5, 7, 35, 14, 8, 11, 36, 19, 18, 25, 3, 26, 4, 22, 24, 13, 6, 16, 1, 28, 15, 37, 17, 32, 2, 39, 29, 38, 40, 23, 21, 9, 30, 10, 12, 27, 41, 20, 34] \n",
            "\n",
            "\t****Encontrada mejor solucion: 3599 [0, 15, 14, 4, 29, 27, 2, 32, 25, 12, 16, 31, 36, 37, 19, 6, 20, 34, 7, 39, 23, 18, 17, 35, 33, 13, 3, 24, 21, 40, 28, 22, 8, 38, 1, 9, 5, 26, 11, 30, 10, 41] \n",
            "\n",
            "\t****Encontrada mejor solucion: 3587 [0, 32, 3, 24, 40, 15, 16, 31, 20, 19, 18, 5, 13, 4, 17, 28, 29, 22, 26, 1, 2, 36, 37, 35, 33, 34, 10, 21, 25, 12, 8, 9, 30, 27, 23, 11, 41, 7, 6, 14, 39, 38] \n",
            "\n",
            "\t****Encontrada mejor solucion: 3554 [0, 17, 27, 35, 26, 7, 33, 34, 31, 37, 28, 23, 16, 15, 29, 39, 21, 38, 9, 22, 2, 30, 20, 36, 14, 6, 24, 40, 32, 8, 4, 19, 12, 41, 13, 18, 11, 25, 10, 3, 1, 5] \n",
            "\n",
            "\t****Encontrada mejor solucion: 3543 [0, 13, 15, 7, 9, 1, 10, 23, 39, 30, 34, 8, 29, 3, 2, 16, 37, 17, 14, 32, 33, 19, 6, 35, 20, 36, 12, 5, 18, 26, 41, 38, 21, 24, 40, 11, 25, 31, 28, 27, 22, 4] \n",
            "\n",
            "\t****Encontrada mejor solucion: 3500 [0, 16, 30, 21, 8, 9, 38, 32, 19, 13, 31, 35, 27, 34, 20, 37, 15, 36, 2, 4, 39, 40, 24, 23, 10, 29, 18, 25, 12, 5, 7, 26, 1, 17, 22, 6, 14, 33, 41, 11, 3, 28] \n",
            "\n",
            "\t****Encontrada mejor solucion: 3420 [0, 16, 30, 21, 8, 9, 38, 32, 19, 13, 31, 35, 33, 34, 20, 37, 15, 14, 2, 4, 11, 40, 24, 23, 10, 27, 18, 26, 12, 5, 7, 25, 1, 17, 22, 6, 36, 29, 41, 39, 3, 28] \n",
            "\n",
            "\t****Encontrada mejor solucion: 3326 [0, 35, 31, 29, 24, 2, 26, 25, 41, 38, 30, 1, 15, 14, 17, 36, 33, 37, 4, 3, 23, 39, 21, 40, 28, 27, 22, 34, 32, 13, 19, 8, 18, 5, 6, 9, 12, 11, 10, 20, 7, 16] \n",
            "\n",
            "\t****Encontrada mejor solucion: 3276 [0, 35, 31, 29, 24, 2, 26, 25, 41, 38, 30, 1, 15, 14, 17, 36, 33, 7, 4, 3, 23, 39, 21, 40, 28, 27, 22, 34, 32, 13, 19, 8, 18, 5, 6, 9, 12, 11, 10, 20, 37, 16] \n",
            "\n",
            "\t****Encontrada mejor solucion: 3267 [0, 7, 36, 34, 41, 38, 33, 2, 26, 39, 8, 23, 22, 25, 10, 30, 18, 11, 12, 6, 13, 19, 15, 5, 1, 27, 20, 40, 24, 9, 29, 21, 31, 16, 14, 37, 17, 35, 4, 28, 3, 32] \n",
            "\n",
            "\t****Encontrada mejor solucion: 3178 [0, 7, 36, 34, 41, 38, 33, 2, 26, 39, 8, 23, 22, 25, 10, 30, 18, 11, 12, 6, 13, 19, 15, 5, 1, 27, 20, 40, 24, 9, 21, 29, 31, 16, 14, 37, 17, 35, 4, 28, 3, 32] \n",
            "\n",
            "\t****Encontrada mejor solucion: 3174 [0, 16, 20, 41, 25, 3, 27, 2, 40, 23, 8, 4, 1, 26, 15, 37, 13, 18, 19, 5, 10, 39, 21, 24, 9, 11, 28, 29, 32, 30, 14, 31, 36, 33, 34, 35, 7, 38, 22, 12, 6, 17] \n",
            "\n",
            "\t****Encontrada mejor solucion: 3091 [0, 31, 17, 15, 1, 12, 25, 16, 35, 36, 32, 40, 24, 39, 21, 23, 22, 28, 5, 13, 7, 14, 2, 4, 8, 29, 33, 34, 37, 6, 27, 26, 18, 30, 41, 3, 19, 11, 10, 9, 38, 20] \n",
            "\n",
            "\t****Encontrada mejor solucion: 3080 [0, 6, 7, 30, 13, 25, 11, 12, 19, 14, 16, 35, 39, 24, 40, 21, 9, 41, 1, 31, 37, 15, 28, 38, 23, 3, 10, 26, 5, 17, 34, 33, 36, 20, 32, 2, 8, 4, 18, 27, 22, 29] \n",
            "\n",
            "\t****Encontrada mejor solucion: 3018 [0, 6, 7, 30, 28, 25, 11, 12, 19, 14, 16, 35, 39, 24, 40, 21, 9, 41, 1, 31, 37, 15, 13, 38, 23, 3, 10, 26, 5, 17, 34, 33, 36, 20, 32, 2, 8, 4, 18, 27, 22, 29] \n",
            "\n",
            "\t****Encontrada mejor solucion: 3008 [0, 6, 7, 30, 28, 25, 11, 12, 19, 14, 16, 35, 39, 24, 40, 21, 9, 41, 1, 31, 37, 15, 13, 38, 18, 3, 10, 26, 5, 17, 34, 33, 36, 20, 32, 2, 8, 4, 27, 23, 22, 29] \n",
            "\n",
            "\t****Encontrada mejor solucion: 2997 [0, 32, 40, 41, 21, 24, 22, 9, 30, 10, 12, 13, 14, 5, 19, 25, 11, 27, 3, 1, 39, 8, 37, 20, 34, 17, 36, 31, 35, 33, 15, 16, 28, 2, 4, 7, 6, 26, 18, 23, 38, 29] \n",
            "\n",
            "\t****Encontrada mejor solucion: 2971 [0, 1, 17, 40, 24, 21, 22, 9, 30, 29, 4, 13, 14, 5, 19, 25, 11, 27, 28, 38, 39, 8, 18, 26, 34, 37, 36, 31, 35, 33, 15, 16, 7, 3, 10, 12, 2, 6, 41, 23, 32, 20] \n",
            "\n",
            "\t****Encontrada mejor solucion: 2964 [0, 1, 17, 40, 24, 21, 22, 9, 30, 29, 4, 13, 14, 5, 19, 25, 11, 27, 28, 38, 39, 8, 18, 26, 34, 37, 36, 31, 33, 35, 15, 16, 7, 3, 10, 12, 2, 6, 41, 23, 32, 20] \n",
            "\n",
            "\t****Encontrada mejor solucion: 2923 [0, 1, 17, 40, 24, 21, 22, 9, 30, 29, 4, 13, 14, 5, 19, 25, 11, 27, 28, 38, 39, 8, 18, 26, 34, 20, 36, 31, 33, 35, 15, 16, 7, 3, 10, 12, 2, 6, 41, 23, 32, 37] \n",
            "\n",
            "\t****Encontrada mejor solucion: 2910 [0, 1, 17, 40, 24, 21, 22, 9, 30, 29, 4, 14, 13, 5, 19, 25, 11, 27, 28, 38, 39, 8, 18, 26, 34, 20, 36, 31, 33, 35, 15, 16, 7, 3, 10, 12, 2, 6, 41, 23, 32, 37] \n",
            "\n",
            "\t****Encontrada mejor solucion: 2892 [0, 1, 17, 40, 24, 21, 22, 9, 30, 29, 4, 14, 13, 5, 19, 25, 28, 27, 32, 38, 39, 8, 18, 26, 34, 20, 36, 31, 33, 35, 7, 15, 16, 3, 10, 12, 11, 6, 41, 23, 2, 37] \n",
            "\n",
            "\t****Encontrada mejor solucion: 2881 [0, 5, 10, 41, 40, 39, 23, 13, 7, 31, 35, 2, 27, 3, 28, 38, 30, 8, 12, 11, 18, 29, 1, 19, 14, 16, 15, 37, 17, 4, 22, 33, 34, 20, 6, 25, 9, 24, 21, 26, 36, 32] \n",
            "\n",
            "\t****Encontrada mejor solucion: 2869 [0, 13, 26, 24, 40, 39, 29, 5, 7, 31, 17, 2, 27, 3, 4, 38, 30, 18, 12, 11, 41, 10, 1, 19, 14, 16, 15, 37, 35, 6, 22, 33, 34, 20, 28, 25, 8, 23, 21, 9, 36, 32] \n",
            "\n",
            "\t****Encontrada mejor solucion: 2757 [0, 13, 26, 24, 40, 39, 30, 31, 7, 5, 17, 2, 27, 3, 4, 38, 29, 18, 12, 11, 41, 10, 1, 19, 14, 16, 15, 37, 35, 36, 22, 33, 34, 20, 28, 25, 8, 23, 21, 9, 6, 32] \n",
            "\n",
            "\t****Encontrada mejor solucion: 2748 [0, 13, 26, 23, 21, 22, 30, 31, 7, 5, 17, 2, 27, 3, 4, 39, 29, 18, 12, 11, 41, 10, 28, 19, 14, 16, 15, 37, 35, 36, 38, 33, 34, 20, 1, 25, 8, 24, 40, 9, 6, 32] \n",
            "\n",
            "\t****Encontrada mejor solucion: 2729 [0, 35, 31, 36, 17, 28, 22, 38, 3, 26, 9, 21, 39, 29, 1, 7, 2, 41, 10, 27, 30, 32, 8, 6, 14, 15, 37, 16, 19, 13, 25, 4, 33, 20, 34, 40, 24, 23, 11, 12, 18, 5] \n",
            "\n",
            "\t****Encontrada mejor solucion: 2715 [0, 34, 22, 3, 37, 36, 35, 19, 16, 15, 11, 18, 25, 8, 39, 9, 7, 32, 27, 26, 4, 5, 13, 14, 28, 29, 30, 2, 10, 12, 6, 17, 31, 33, 20, 38, 21, 24, 40, 23, 41, 1] \n",
            "\n",
            "\t****Encontrada mejor solucion: 2703 [0, 7, 8, 10, 11, 36, 35, 37, 31, 15, 14, 19, 17, 26, 28, 29, 3, 1, 27, 4, 6, 5, 13, 16, 18, 12, 30, 39, 22, 32, 2, 25, 34, 33, 20, 38, 21, 24, 40, 9, 41, 23] \n",
            "\n",
            "\t****Encontrada mejor solucion: 2698 [0, 7, 3, 10, 11, 36, 35, 37, 31, 15, 14, 19, 17, 26, 28, 29, 8, 1, 25, 4, 6, 5, 13, 16, 18, 12, 30, 39, 22, 32, 2, 27, 34, 33, 20, 38, 21, 24, 40, 9, 41, 23] \n",
            "\n",
            "\t****Encontrada mejor solucion: 2681 [0, 7, 3, 10, 11, 36, 35, 37, 31, 15, 14, 19, 17, 26, 28, 29, 8, 1, 25, 4, 6, 5, 16, 13, 18, 12, 30, 39, 22, 32, 2, 27, 34, 33, 20, 38, 21, 24, 40, 9, 41, 23] \n",
            "\n",
            "\t****Encontrada mejor solucion: 2658 [0, 7, 3, 10, 11, 35, 36, 37, 31, 15, 14, 19, 17, 26, 28, 29, 1, 8, 25, 4, 6, 5, 16, 13, 18, 12, 30, 39, 38, 32, 2, 27, 34, 33, 20, 22, 21, 24, 40, 9, 41, 23] \n",
            "\n",
            "\t****Encontrada mejor solucion: 2652 [0, 7, 3, 1, 30, 35, 36, 37, 31, 14, 19, 15, 13, 4, 26, 12, 10, 9, 29, 11, 6, 17, 16, 5, 18, 25, 28, 39, 38, 32, 2, 27, 34, 33, 20, 22, 21, 24, 40, 8, 41, 23] \n",
            "\n",
            "\t****Encontrada mejor solucion: 2635 [0, 7, 30, 23, 41, 35, 36, 37, 31, 14, 15, 19, 13, 4, 6, 9, 10, 12, 3, 11, 18, 17, 16, 5, 26, 25, 8, 29, 38, 32, 2, 27, 34, 33, 20, 22, 21, 24, 40, 39, 28, 1] \n",
            "\n",
            "\t****Encontrada mejor solucion: 2617 [0, 1, 4, 26, 3, 37, 36, 35, 31, 16, 15, 19, 6, 23, 41, 30, 2, 18, 12, 25, 10, 17, 14, 13, 5, 11, 9, 8, 40, 32, 7, 27, 20, 34, 33, 38, 21, 39, 22, 24, 29, 28] \n",
            "\n",
            "\t****Encontrada mejor solucion: 2582 [0, 1, 4, 26, 3, 37, 36, 35, 31, 16, 15, 19, 6, 23, 41, 9, 40, 18, 12, 25, 10, 17, 14, 13, 5, 11, 30, 8, 2, 32, 7, 27, 20, 34, 33, 38, 21, 39, 22, 24, 29, 28] \n",
            "\n",
            "\t****Encontrada mejor solucion: 2580 [0, 1, 3, 26, 4, 37, 36, 35, 31, 16, 15, 19, 6, 23, 41, 9, 40, 18, 12, 25, 10, 17, 14, 13, 5, 11, 30, 8, 2, 32, 7, 27, 20, 34, 33, 38, 21, 39, 22, 24, 29, 28] \n",
            "\n",
            "\t****Encontrada mejor solucion: 2527 [0, 1, 3, 26, 4, 17, 36, 35, 31, 16, 15, 19, 6, 23, 41, 9, 40, 18, 12, 25, 10, 37, 14, 13, 5, 11, 30, 8, 2, 32, 7, 27, 20, 34, 33, 38, 21, 39, 22, 24, 29, 28] \n",
            "\n",
            "\t****Encontrada mejor solucion: 2525 [0, 1, 4, 26, 3, 17, 36, 35, 31, 16, 15, 19, 6, 23, 41, 9, 40, 18, 12, 25, 10, 37, 14, 13, 5, 11, 30, 8, 2, 32, 7, 27, 20, 34, 33, 38, 21, 39, 22, 24, 29, 28] \n",
            "\n",
            "\t****Encontrada mejor solucion: 2476 [0, 1, 4, 26, 3, 17, 36, 35, 31, 16, 15, 19, 6, 23, 41, 24, 40, 18, 12, 25, 10, 37, 14, 13, 5, 11, 30, 8, 2, 32, 7, 27, 20, 34, 33, 38, 21, 39, 22, 9, 29, 28] \n",
            "\n",
            "\t****Encontrada mejor solucion: 2467 [0, 1, 4, 26, 3, 17, 36, 35, 31, 16, 15, 19, 6, 23, 41, 24, 40, 12, 18, 25, 10, 13, 14, 37, 5, 11, 30, 8, 28, 32, 7, 27, 20, 34, 33, 38, 21, 39, 22, 9, 29, 2] \n",
            "\n",
            "\t****Encontrada mejor solucion: 2432 [0, 1, 4, 26, 3, 17, 36, 35, 31, 16, 15, 19, 6, 23, 41, 24, 40, 12, 10, 25, 18, 13, 14, 37, 5, 11, 30, 8, 28, 32, 7, 27, 20, 34, 33, 38, 21, 39, 22, 9, 29, 2] \n",
            "\n",
            "\t****Encontrada mejor solucion: 2389 [0, 1, 4, 6, 3, 17, 36, 35, 31, 16, 15, 19, 26, 23, 41, 24, 40, 12, 10, 25, 18, 13, 14, 37, 5, 11, 30, 8, 28, 32, 7, 27, 20, 34, 33, 38, 21, 39, 22, 9, 29, 2] \n",
            "\n",
            "\t****Encontrada mejor solucion: 2359 [0, 20, 35, 36, 31, 16, 13, 26, 41, 10, 18, 7, 2, 28, 8, 22, 39, 12, 11, 25, 29, 9, 21, 24, 40, 23, 4, 6, 1, 17, 37, 15, 14, 19, 27, 32, 33, 34, 38, 30, 3, 5] \n",
            "\n",
            "\t****Encontrada mejor solucion: 2309 [0, 17, 35, 36, 33, 32, 27, 2, 8, 25, 18, 26, 6, 4, 3, 5, 19, 31, 23, 41, 24, 39, 40, 21, 9, 11, 12, 10, 13, 14, 37, 15, 16, 7, 20, 34, 30, 28, 29, 38, 22, 1] \n",
            "\n",
            "\t****Encontrada mejor solucion: 2291 [0, 11, 5, 6, 34, 20, 35, 36, 17, 31, 9, 38, 33, 32, 26, 18, 8, 41, 23, 39, 24, 40, 21, 10, 25, 12, 3, 1, 7, 37, 16, 14, 15, 19, 13, 28, 2, 30, 29, 22, 27, 4] \n",
            "\n",
            "\t****Encontrada mejor solucion: 2286 [0, 4, 5, 22, 34, 33, 17, 36, 35, 31, 20, 38, 32, 30, 28, 29, 8, 41, 23, 39, 24, 40, 21, 10, 25, 12, 1, 26, 7, 37, 16, 15, 14, 19, 13, 3, 11, 18, 6, 9, 27, 2] \n",
            "\n",
            "\t****Encontrada mejor solucion: 2251 [0, 4, 6, 22, 34, 33, 17, 36, 35, 31, 20, 38, 32, 30, 28, 29, 8, 41, 23, 39, 24, 40, 21, 10, 25, 12, 1, 26, 7, 37, 16, 15, 14, 19, 13, 3, 11, 18, 5, 9, 27, 2] \n",
            "\n",
            "\t****Encontrada mejor solucion: 2216 [0, 4, 6, 22, 34, 33, 17, 36, 35, 31, 20, 38, 32, 30, 28, 29, 8, 41, 23, 39, 24, 40, 21, 10, 25, 5, 1, 26, 7, 37, 16, 15, 14, 19, 13, 3, 11, 18, 12, 9, 27, 2] \n",
            "\n",
            "\t****Encontrada mejor solucion: 2183 [0, 4, 1, 22, 34, 33, 17, 36, 35, 31, 20, 38, 32, 30, 28, 29, 8, 41, 23, 39, 24, 40, 21, 10, 25, 5, 6, 26, 7, 37, 16, 15, 14, 19, 13, 3, 11, 18, 12, 9, 27, 2] \n",
            "\n",
            "\t****Encontrada mejor solucion: 2136 [0, 4, 1, 22, 34, 33, 17, 36, 35, 31, 20, 38, 32, 30, 28, 29, 8, 41, 23, 39, 24, 40, 21, 10, 25, 5, 6, 26, 7, 37, 16, 15, 14, 19, 13, 3, 18, 11, 12, 9, 27, 2] \n",
            "\n",
            "\t****Encontrada mejor solucion: 2087 [0, 4, 38, 22, 34, 33, 17, 36, 35, 31, 20, 1, 32, 30, 28, 29, 8, 41, 23, 39, 24, 40, 21, 10, 25, 5, 6, 26, 7, 37, 16, 15, 14, 19, 13, 3, 18, 11, 12, 9, 27, 2] \n",
            "\n",
            "\t****Encontrada mejor solucion: 2085 [0, 4, 38, 22, 34, 33, 17, 36, 35, 20, 31, 1, 32, 30, 28, 29, 8, 41, 23, 21, 24, 40, 39, 10, 25, 5, 6, 26, 7, 37, 16, 15, 14, 19, 13, 3, 18, 11, 12, 9, 27, 2] \n",
            "\n",
            "\t****Encontrada mejor solucion: 2025 [0, 32, 38, 22, 34, 33, 17, 36, 35, 20, 31, 3, 2, 27, 30, 29, 39, 41, 23, 21, 24, 40, 9, 10, 4, 5, 6, 26, 7, 16, 15, 37, 14, 19, 13, 1, 18, 11, 12, 25, 8, 28] \n",
            "\n",
            "\t****Encontrada mejor solucion: 2009 [0, 32, 38, 22, 34, 33, 17, 36, 35, 20, 31, 3, 2, 27, 30, 29, 39, 41, 23, 21, 24, 40, 9, 10, 4, 26, 6, 5, 7, 16, 15, 37, 14, 19, 13, 1, 18, 11, 12, 25, 8, 28] \n",
            "\n",
            "\t****Encontrada mejor solucion: 1996 [0, 32, 38, 22, 34, 33, 17, 36, 35, 20, 31, 3, 2, 27, 30, 29, 39, 41, 23, 21, 24, 40, 9, 10, 4, 26, 6, 5, 13, 16, 15, 37, 14, 19, 7, 1, 18, 11, 12, 25, 8, 28] \n",
            "\n",
            "\t****Encontrada mejor solucion: 1956 [0, 32, 34, 33, 20, 17, 31, 35, 36, 27, 18, 13, 3, 30, 38, 22, 39, 24, 40, 21, 9, 23, 28, 4, 6, 26, 1, 7, 5, 19, 16, 15, 37, 14, 12, 25, 11, 10, 41, 8, 29, 2] \n",
            "\n",
            "\t****Encontrada mejor solucion: 1946 [0, 32, 34, 33, 20, 17, 31, 35, 36, 27, 3, 13, 18, 30, 38, 22, 39, 24, 40, 21, 9, 23, 28, 4, 6, 26, 1, 7, 5, 19, 16, 15, 37, 14, 12, 25, 11, 10, 41, 8, 29, 2] \n",
            "\n",
            "\t****Encontrada mejor solucion: 1944 [0, 32, 34, 33, 20, 17, 31, 35, 36, 2, 3, 13, 18, 30, 38, 22, 39, 24, 40, 21, 9, 23, 28, 4, 6, 26, 1, 7, 5, 14, 16, 15, 37, 19, 12, 25, 11, 10, 41, 8, 29, 27] \n",
            "\n",
            "\t****Encontrada mejor solucion: 1931 [0, 32, 34, 33, 20, 17, 31, 35, 36, 2, 3, 13, 18, 30, 38, 22, 39, 24, 40, 21, 23, 9, 28, 4, 6, 26, 1, 7, 5, 16, 37, 15, 14, 19, 12, 25, 11, 10, 41, 8, 29, 27] \n",
            "\n",
            "\t****Encontrada mejor solucion: 1929 [0, 32, 34, 33, 20, 17, 31, 35, 36, 27, 3, 13, 18, 30, 38, 22, 39, 24, 40, 21, 23, 9, 28, 4, 6, 26, 1, 7, 5, 16, 37, 15, 14, 19, 12, 25, 11, 10, 41, 8, 29, 2] \n",
            "\n",
            "\t****Encontrada mejor solucion: 1924 [0, 32, 34, 33, 20, 17, 31, 35, 36, 7, 3, 13, 18, 30, 38, 22, 39, 24, 40, 21, 23, 9, 28, 4, 6, 26, 1, 27, 5, 16, 37, 15, 14, 19, 12, 25, 11, 10, 41, 8, 29, 2] \n",
            "\n",
            "\t****Encontrada mejor solucion: 1913 [0, 32, 34, 33, 20, 17, 31, 35, 36, 7, 3, 13, 18, 30, 38, 22, 39, 24, 40, 21, 23, 9, 28, 4, 26, 6, 1, 27, 5, 16, 37, 15, 14, 19, 12, 25, 11, 10, 41, 8, 29, 2] \n",
            "\n",
            "\t****Encontrada mejor solucion: 1847 [0, 32, 34, 33, 20, 17, 31, 35, 36, 7, 5, 13, 18, 30, 38, 22, 39, 24, 40, 21, 23, 9, 28, 4, 26, 6, 1, 27, 3, 16, 37, 15, 14, 19, 12, 25, 11, 10, 41, 8, 29, 2] \n",
            "\n",
            "\t****Encontrada mejor solucion: 1836 [0, 32, 34, 33, 20, 31, 35, 36, 17, 37, 7, 1, 30, 9, 38, 22, 24, 40, 39, 21, 23, 8, 28, 2, 27, 3, 6, 13, 5, 16, 14, 15, 19, 26, 18, 10, 11, 25, 12, 41, 29, 4] \n",
            "\n",
            "\t****Encontrada mejor solucion: 1781 [0, 32, 34, 33, 20, 31, 35, 36, 17, 37, 7, 1, 41, 9, 38, 22, 24, 40, 39, 21, 23, 30, 28, 2, 27, 3, 6, 13, 26, 16, 14, 15, 19, 5, 18, 12, 11, 25, 10, 8, 29, 4] \n",
            "\n",
            "\t****Encontrada mejor solucion: 1773 [0, 32, 34, 33, 20, 31, 35, 36, 17, 37, 7, 1, 29, 9, 22, 38, 24, 40, 39, 21, 23, 30, 28, 2, 27, 3, 6, 13, 26, 16, 14, 15, 19, 5, 18, 12, 11, 25, 10, 8, 41, 4] \n",
            "\n",
            "\t****Encontrada mejor solucion: 1772 [0, 32, 34, 33, 20, 31, 35, 36, 17, 37, 7, 27, 29, 9, 22, 38, 24, 40, 21, 39, 23, 3, 28, 30, 2, 4, 6, 19, 13, 15, 16, 14, 5, 26, 18, 12, 11, 25, 8, 41, 10, 1] \n",
            "\n",
            "\t****Encontrada mejor solucion: 1753 [0, 32, 34, 33, 20, 31, 35, 36, 17, 37, 7, 27, 29, 9, 22, 38, 24, 40, 21, 39, 23, 3, 28, 30, 2, 4, 6, 19, 13, 15, 16, 14, 5, 26, 18, 12, 11, 25, 10, 41, 8, 1] \n",
            "\n",
            "\t****Encontrada mejor solucion: 1723 [0, 32, 34, 33, 20, 31, 35, 36, 17, 37, 7, 2, 28, 9, 22, 38, 24, 40, 21, 39, 23, 41, 29, 30, 8, 3, 6, 19, 13, 15, 16, 14, 5, 26, 18, 12, 11, 25, 10, 4, 27, 1] \n",
            "\n",
            "\t****Encontrada mejor solucion: 1721 [0, 32, 34, 33, 20, 31, 35, 36, 17, 37, 7, 4, 28, 9, 22, 38, 24, 40, 21, 39, 23, 41, 29, 30, 8, 3, 6, 19, 13, 15, 16, 14, 5, 26, 18, 12, 11, 25, 10, 2, 27, 1] \n",
            "\n",
            "\t****Encontrada mejor solucion: 1718 [0, 32, 34, 33, 20, 31, 35, 36, 17, 37, 7, 4, 28, 38, 22, 9, 24, 40, 21, 39, 23, 41, 29, 30, 8, 3, 6, 5, 13, 15, 16, 14, 19, 26, 18, 12, 11, 25, 10, 2, 27, 1] \n",
            "\n",
            "\t****Encontrada mejor solucion: 1701 [0, 32, 34, 33, 20, 35, 36, 31, 15, 16, 7, 1, 9, 23, 40, 24, 21, 39, 22, 38, 30, 29, 2, 28, 27, 3, 6, 17, 37, 14, 19, 5, 26, 13, 18, 12, 11, 10, 25, 41, 8, 4] \n",
            "\n",
            "\t****Encontrada mejor solucion: 1698 [0, 32, 34, 33, 20, 35, 36, 17, 31, 14, 15, 1, 8, 23, 21, 40, 24, 39, 22, 38, 30, 28, 2, 3, 27, 4, 6, 7, 37, 16, 19, 13, 26, 18, 5, 11, 12, 25, 10, 41, 9, 29] \n",
            "\n",
            "\t****Encontrada mejor solucion: 1660 [0, 32, 34, 33, 20, 35, 36, 17, 31, 14, 7, 1, 8, 23, 21, 40, 24, 39, 22, 38, 30, 28, 2, 3, 27, 4, 6, 15, 37, 16, 19, 13, 26, 5, 18, 11, 12, 10, 25, 41, 9, 29] \n",
            "\n",
            "\t****Encontrada mejor solucion: 1639 [0, 32, 34, 33, 20, 35, 36, 17, 31, 14, 7, 1, 8, 23, 21, 40, 24, 39, 22, 38, 30, 28, 2, 3, 27, 4, 6, 15, 37, 16, 19, 13, 5, 26, 18, 11, 12, 25, 10, 41, 9, 29] \n",
            "\n",
            "\t****Encontrada mejor solucion: 1630 [0, 32, 34, 33, 20, 35, 36, 17, 31, 14, 7, 1, 41, 23, 21, 40, 24, 39, 22, 38, 30, 28, 2, 3, 27, 4, 6, 15, 37, 16, 19, 13, 5, 26, 18, 11, 12, 25, 10, 8, 9, 29] \n",
            "\n",
            "\t****Encontrada mejor solucion: 1618 [0, 32, 34, 33, 20, 35, 36, 17, 31, 14, 7, 1, 41, 23, 21, 40, 24, 39, 22, 38, 30, 28, 3, 2, 27, 4, 6, 37, 15, 16, 19, 13, 5, 26, 18, 11, 12, 25, 10, 8, 9, 29] \n",
            "\n",
            "\t****Encontrada mejor solucion: 1612 [0, 32, 34, 20, 33, 35, 36, 31, 17, 37, 14, 6, 41, 23, 40, 24, 21, 39, 22, 38, 30, 28, 2, 27, 3, 4, 1, 7, 16, 15, 13, 19, 26, 5, 18, 11, 12, 25, 10, 8, 9, 29] \n",
            "\n",
            "\t****Encontrada mejor solucion: 1610 [0, 32, 20, 34, 33, 35, 36, 31, 17, 37, 26, 6, 8, 23, 40, 24, 21, 39, 22, 38, 30, 28, 27, 3, 2, 4, 1, 7, 14, 15, 16, 19, 13, 5, 18, 11, 12, 25, 10, 41, 9, 29] \n",
            "\n",
            "\t****Encontrada mejor solucion: 1593 [0, 32, 20, 34, 33, 35, 36, 31, 17, 37, 26, 6, 8, 23, 40, 24, 21, 39, 22, 38, 30, 28, 27, 3, 2, 4, 1, 7, 14, 15, 16, 19, 13, 5, 18, 12, 11, 25, 10, 41, 9, 29] \n",
            "\n",
            "\t****Encontrada mejor solucion: 1571 [0, 32, 20, 34, 33, 35, 36, 31, 17, 37, 5, 6, 8, 23, 40, 24, 21, 39, 22, 38, 30, 28, 27, 3, 2, 4, 1, 7, 14, 15, 16, 19, 13, 26, 18, 12, 11, 25, 10, 41, 9, 29] \n",
            "\n",
            "\t****Encontrada mejor solucion: 1554 [0, 32, 34, 33, 20, 35, 36, 31, 17, 37, 5, 6, 8, 23, 40, 24, 21, 39, 22, 38, 30, 28, 27, 3, 2, 4, 1, 7, 14, 15, 16, 19, 13, 26, 18, 12, 11, 25, 10, 41, 9, 29] \n",
            "\n",
            "\t****Encontrada mejor solucion: 1551 [0, 32, 34, 33, 20, 35, 36, 31, 17, 37, 7, 29, 9, 23, 40, 24, 21, 39, 22, 38, 30, 28, 27, 2, 3, 4, 1, 5, 14, 15, 16, 19, 13, 26, 18, 12, 11, 25, 10, 41, 8, 6] \n",
            "\n",
            "\t****Encontrada mejor solucion: 1543 [0, 32, 34, 33, 20, 35, 36, 31, 17, 37, 7, 1, 8, 9, 40, 24, 21, 39, 22, 38, 30, 29, 28, 2, 27, 3, 6, 19, 16, 15, 14, 13, 5, 26, 18, 12, 11, 10, 25, 41, 23, 4] \n",
            "\n",
            "\t****Encontrada mejor solucion: 1524 [0, 32, 34, 33, 20, 35, 36, 31, 17, 37, 7, 1, 8, 9, 40, 24, 21, 39, 22, 38, 30, 29, 28, 2, 27, 3, 6, 14, 16, 15, 19, 13, 5, 26, 18, 12, 11, 10, 25, 41, 23, 4] \n",
            "\n",
            "\t****Encontrada mejor solucion: 1520 [0, 32, 34, 33, 20, 35, 36, 31, 17, 37, 7, 1, 8, 9, 40, 24, 21, 39, 22, 38, 30, 29, 28, 2, 27, 3, 6, 14, 15, 16, 19, 13, 5, 26, 18, 12, 11, 10, 25, 41, 23, 4] \n",
            "\n",
            "\t****Encontrada mejor solucion: 1503 [0, 32, 34, 33, 20, 35, 36, 31, 17, 37, 7, 1, 8, 9, 40, 24, 21, 39, 22, 38, 30, 29, 28, 2, 3, 4, 6, 14, 15, 16, 19, 13, 5, 26, 18, 12, 11, 25, 23, 41, 10, 27] \n",
            "\n",
            "\t****Encontrada mejor solucion: 1501 [0, 32, 34, 33, 20, 35, 36, 31, 17, 37, 7, 1, 8, 9, 40, 24, 21, 39, 22, 38, 30, 29, 28, 27, 3, 4, 6, 14, 15, 16, 19, 13, 5, 26, 18, 12, 11, 25, 23, 41, 10, 2] \n",
            "\n",
            "\t****Encontrada mejor solucion: 1499 [0, 32, 34, 33, 20, 35, 36, 31, 17, 37, 7, 1, 8, 9, 40, 24, 21, 39, 22, 38, 30, 29, 28, 27, 2, 4, 6, 14, 15, 16, 19, 13, 5, 26, 18, 12, 11, 25, 23, 41, 10, 3] \n",
            "\n",
            "\t****Encontrada mejor solucion: 1498 [0, 32, 34, 33, 20, 35, 36, 31, 17, 37, 7, 6, 8, 9, 40, 24, 21, 39, 22, 38, 30, 29, 28, 2, 27, 3, 1, 15, 16, 14, 19, 13, 5, 26, 18, 12, 11, 25, 23, 41, 10, 4] \n",
            "\n",
            "\t****Encontrada mejor solucion: 1494 [0, 32, 34, 33, 20, 35, 36, 31, 17, 7, 1, 3, 8, 9, 40, 24, 21, 39, 22, 38, 30, 29, 28, 2, 4, 6, 37, 15, 16, 14, 19, 13, 5, 26, 18, 12, 11, 25, 41, 23, 10, 27] \n",
            "\n",
            "\t****Encontrada mejor solucion: 1493 [0, 32, 34, 33, 20, 35, 36, 31, 17, 7, 1, 2, 8, 9, 40, 24, 21, 39, 22, 38, 30, 29, 28, 27, 3, 6, 37, 15, 16, 14, 19, 13, 5, 26, 18, 12, 11, 25, 41, 23, 10, 4] \n",
            "\n",
            "\t****Encontrada mejor solucion: 1492 [0, 32, 34, 33, 20, 35, 36, 31, 17, 7, 1, 4, 8, 9, 40, 24, 21, 39, 22, 38, 30, 29, 28, 27, 3, 6, 37, 15, 16, 14, 19, 13, 5, 26, 18, 12, 11, 25, 41, 23, 10, 2] \n",
            "\n",
            "\t****Encontrada mejor solucion: 1491 [0, 32, 34, 33, 20, 35, 36, 31, 17, 7, 6, 4, 8, 9, 40, 24, 21, 39, 22, 38, 30, 29, 28, 2, 27, 1, 37, 15, 14, 16, 19, 13, 5, 26, 18, 12, 11, 25, 41, 23, 10, 3] \n",
            "\n",
            "\t****Encontrada mejor solucion: 1487 [0, 32, 34, 33, 20, 35, 36, 31, 17, 7, 6, 4, 8, 9, 40, 24, 21, 39, 22, 38, 30, 29, 28, 2, 27, 1, 37, 15, 16, 14, 19, 13, 5, 26, 18, 12, 11, 25, 41, 23, 10, 3] \n",
            "\n",
            "\t****Encontrada mejor solucion: 1486 [0, 32, 34, 33, 20, 35, 36, 31, 17, 7, 6, 4, 8, 9, 40, 24, 21, 39, 22, 38, 30, 29, 28, 27, 3, 1, 37, 15, 16, 14, 19, 13, 5, 26, 18, 12, 11, 25, 41, 23, 10, 2] \n",
            "\n",
            "La mejor solución encontrada es : 1486 [0, 32, 34, 33, 20, 35, 36, 31, 17, 7, 6, 4, 8, 9, 40, 24, 21, 39, 22, 38, 30, 29, 28, 27, 3, 1, 37, 15, 16, 14, 19, 13, 5, 26, 18, 12, 11, 25, 41, 23, 10, 2]\n"
          ],
          "name": "stdout"
        }
      ]
    },
    {
      "cell_type": "markdown",
      "metadata": {
        "id": "m3Qkh0129vix",
        "colab_type": "text"
      },
      "source": [
        "# **Colonia de hormigas**"
      ]
    },
    {
      "cell_type": "code",
      "metadata": {
        "id": "PjrG7zRi9vvn",
        "colab_type": "code",
        "outputId": "0734e67b-b96d-48ff-e448-5351f1f88b30",
        "colab": {
          "base_uri": "https://localhost:8080/",
          "height": 71
        }
      },
      "source": [
        "def Add_Nodo(problem, H ,T ) :\n",
        "  #Establecer una una funcion de probabilidad para \n",
        "  # añadir un nuevo nodo dependiendo de los nodos mas cercanos y de las feromonas depositadas\n",
        "  Nodos = list(problem.get_nodes())\n",
        "  return random.choice(   list(set(range(1,len(Nodos))) - set(H) )  )\n",
        "\n",
        "\n",
        "def Incrementa_Feromona(problem, T, H):\n",
        "  #Incrementar segun la calidad de la solución. Añadir una cantidad inversamente proporcional a la distancia total \n",
        "  for i in range(len(H)-1):\n",
        "    T[H[i]][H[i+1]] += 1000/distancia_total(H, problem)\n",
        "  return T\n",
        "\n",
        "def Evaporar_Feromonas(T):\n",
        "  #Podemos elegir diferentes funciones de evaporación dependiendo de la cantidad actual y de la suma total de feromonas depositadas,...\n",
        "  #Evapora 0.3 el valor de la feromona, sin que baje de 1\n",
        "  T = [[ max(T[i][j] - 0.3 , 1) for i in range(len(Nodos)) ] for j in range(len(Nodos))]\n",
        "  return T\n",
        "\n",
        "def hormigas(problem, N) :\n",
        "  #problem = datos del problema\n",
        "  #N = Número de agentes(hormigas)\n",
        "    \n",
        "  #Nodos\n",
        "  Nodos = list(problem.get_nodes())\n",
        "  #Aristas\n",
        "  Aristas = list(problem.get_edges()) \n",
        "  \n",
        "  #Inicializa las aristas con una cantidad inicial de feromonas:1\n",
        "  T = [[ 1 for _ in range(len(Nodos)) ] for _ in range(len(Nodos))]\n",
        "  \n",
        "  #Se generan los agentes(hormigas) que serán estructuras de caminos desde 0\n",
        "  Hormiga = [[0] for _ in range(N)]\n",
        "\n",
        "  #Recorre cada agente construyendo la solución\n",
        "  for h in range(N) :\n",
        "    #print(\"\\nAgente:\", h)\n",
        "    #Para cada agente se construye un camino\n",
        "    for i in range(len(Nodos)-1) :\n",
        "      \n",
        "      #Elige el siguiente nodo\n",
        "      Nuevo_Nodo = Add_Nodo(problem, Hormiga[h] ,T )\n",
        "      \n",
        "      Hormiga[h].append(Nuevo_Nodo)     \n",
        "    \n",
        "    #Incrementa feromonas en esa arista \n",
        "    T = Incrementa_Feromona(problem, T, Hormiga[h] )\n",
        "    #print(\"Feromonas(1)\", T)\n",
        "      \n",
        "    #Evapora Feromonas  \n",
        "    T = Evaporar_Feromonas(T)\n",
        "    #print(\"Feromonas(2)\", T)\n",
        "\n",
        "    #Seleccionamos el mejor agente\n",
        "  mejor_solucion = []\n",
        "  mejor_distancia = 10e100\n",
        "  for h in range(N) :\n",
        "    distancia_actual = distancia_total(Hormiga[h], problem)\n",
        "    if distancia_actual < mejor_distancia:\n",
        "      mejor_solucion = Hormiga[h]\n",
        "      mejor_distancia =distancia_actual\n",
        "  \n",
        "  \n",
        "  print(mejor_solucion)\n",
        "  print(mejor_distancia)\n",
        "\n",
        "hormigas(problem, 1000)"
      ],
      "execution_count": 0,
      "outputs": [
        {
          "output_type": "stream",
          "text": [
            "[0, 27, 41, 16, 19, 23, 13, 11, 12, 9, 26, 10, 3, 17, 18, 25, 5, 36, 31, 37, 15, 14, 35, 30, 21, 39, 24, 20, 7, 1, 8, 4, 40, 33, 34, 32, 22, 38, 28, 29, 2, 6]\n",
            "3562\n"
          ],
          "name": "stdout"
        }
      ]
    }
  ]
}