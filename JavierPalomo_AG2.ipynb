{
  "nbformat": 4,
  "nbformat_minor": 0,
  "metadata": {
    "colab": {
      "name": "JavierPalomo-AG2.ipynb",
      "provenance": [],
      "collapsed_sections": [],
      "authorship_tag": "ABX9TyPCAeqGfKRCil/0QfRcewMd",
      "include_colab_link": true
    },
    "kernelspec": {
      "name": "python3",
      "display_name": "Python 3"
    }
  },
  "cells": [
    {
      "cell_type": "markdown",
      "metadata": {
        "id": "view-in-github",
        "colab_type": "text"
      },
      "source": [
        "<a href=\"https://colab.research.google.com/github/jpalomogz/03MAIR---Algoritmos-de-Optimizacion---2019/blob/master/JavierPalomo_AG2.ipynb\" target=\"_parent\"><img src=\"https://colab.research.google.com/assets/colab-badge.svg\" alt=\"Open In Colab\"/></a>"
      ]
    },
    {
      "cell_type": "markdown",
      "metadata": {
        "id": "siX9JveSj5hX",
        "colab_type": "text"
      },
      "source": [
        "Nombre: Javier Palomo Gonzalez <br>\n",
        "Link: https://colab.research.google.com/drive/1V217xGzKZMSR-3fSQ1M4pgO5s_zCbDEW<br>\n",
        "Actividad Guiada 2"
      ]
    },
    {
      "cell_type": "markdown",
      "metadata": {
        "id": "03gcK_fIyVuD",
        "colab_type": "text"
      },
      "source": [
        "# **Programacion Dinamica**"
      ]
    },
    {
      "cell_type": "code",
      "metadata": {
        "id": "PVo0BuCTaloe",
        "colab_type": "code",
        "colab": {}
      },
      "source": [
        "matrizTarifas = [\n",
        "[0,5,4,3,999,999,999],      # desde nodo 0\n",
        "[999,0,999,2,3,999,11],     # desde nodo 1\n",
        "[999,999, 0,1,999,4,10],    # desde nodo 2\n",
        "[999,999,999, 0,5,6,9],     # desde nodo 3\n",
        "[999,999, 999,999,0,999,4], # desde nodo 4\n",
        "[999,999, 999,999,999,0,3], # desde nodo 5\n",
        "[999,999,999,999,999,999,0] # desde nodo 6\n",
        "]"
      ],
      "execution_count": 0,
      "outputs": []
    },
    {
      "cell_type": "code",
      "metadata": {
        "id": "6ipU0kZgmSXL",
        "colab_type": "code",
        "colab": {}
      },
      "source": [
        "def Precios(tarifa):\n",
        "\n",
        "  N = len(tarifa[0])\n",
        "\n",
        "  #Inicializamos dos matrices NxN para almacenar precios y la ruta\n",
        "  precio = [[9999]*N for i in [9999]*N]\n",
        "  ruta = [[\"\"]*N for i in [\"\"]*N]\n",
        "\n",
        "  for i in range (N-1):\n",
        "    for j in range(i+1,N):\n",
        "      tarifaMinima = tarifa[i][j]\n",
        "      ruta[i][j] = i\n",
        "\n",
        "      for k in range(i,j):\n",
        "        if precio[i][k] + tarifa[k][j] < tarifaMinima:\n",
        "          tarifaMinima = min(tarifaMinima,precio[i][k] + tarifa[k][j])\n",
        "          ruta[i][j] = k\n",
        "        precio[i][j] = tarifaMinima\n",
        "\n",
        "  return precio, ruta"
      ],
      "execution_count": 0,
      "outputs": []
    },
    {
      "cell_type": "code",
      "metadata": {
        "id": "KQthX_bCprcy",
        "colab_type": "code",
        "outputId": "f25ac7c3-1762-41ec-afdb-db3fa33c46ca",
        "colab": {
          "base_uri": "https://localhost:8080/",
          "height": 306
        }
      },
      "source": [
        "PRECIOS,RUTA = Precios(matrizTarifas)  \n",
        "#print(PRECIOS[0][6])\n",
        "\n",
        "print(\"PRECIOS\")\n",
        "for i in range(len(matrizTarifas)):\n",
        "  print(PRECIOS[i])\n",
        "\n",
        "print(\"\\nRUTA\")  \n",
        "for i in range(len(matrizTarifas)):\n",
        "  print(RUTA[i]) "
      ],
      "execution_count": 0,
      "outputs": [
        {
          "output_type": "stream",
          "text": [
            "PRECIOS\n",
            "[9999, 5, 4, 3, 8, 8, 11]\n",
            "[9999, 9999, 999, 2, 3, 8, 7]\n",
            "[9999, 9999, 9999, 1, 6, 4, 7]\n",
            "[9999, 9999, 9999, 9999, 5, 6, 9]\n",
            "[9999, 9999, 9999, 9999, 9999, 999, 4]\n",
            "[9999, 9999, 9999, 9999, 9999, 9999, 3]\n",
            "[9999, 9999, 9999, 9999, 9999, 9999, 9999]\n",
            "\n",
            "RUTA\n",
            "['', 0, 0, 0, 1, 2, 5]\n",
            "['', '', 1, 1, 1, 3, 4]\n",
            "['', '', '', 2, 3, 2, 5]\n",
            "['', '', '', '', 3, 3, 3]\n",
            "['', '', '', '', '', 4, 4]\n",
            "['', '', '', '', '', '', 5]\n",
            "['', '', '', '', '', '', '']\n"
          ],
          "name": "stdout"
        }
      ]
    },
    {
      "cell_type": "code",
      "metadata": {
        "id": "ziThL1knnty0",
        "colab_type": "code",
        "outputId": "5e91305d-3115-4bdf-f796-642d34467e6e",
        "colab": {
          "base_uri": "https://localhost:8080/",
          "height": 68
        }
      },
      "source": [
        "def calcular_ruta(ruta, desde, hasta):\n",
        "  if desde == hasta:\n",
        "    #print(\"Ir a :\" + str(desde))\n",
        "    return desde \n",
        "  else:\n",
        "    return str(calcular_ruta(ruta, desde, ruta[desde][hasta])) +  ',' + str(ruta[desde][hasta]) \n",
        "\n",
        "print(\"\\nLa ruta es:\")  \n",
        "calcular_ruta(RUTA, 0,6) "
      ],
      "execution_count": 0,
      "outputs": [
        {
          "output_type": "stream",
          "text": [
            "\n",
            "La ruta es:\n"
          ],
          "name": "stdout"
        },
        {
          "output_type": "execute_result",
          "data": {
            "text/plain": [
              "'0,0,2,5'"
            ]
          },
          "metadata": {
            "tags": []
          },
          "execution_count": 4
        }
      ]
    },
    {
      "cell_type": "markdown",
      "metadata": {
        "id": "Ff3zXGyhyReH",
        "colab_type": "text"
      },
      "source": [
        "# **Ramificacion y Poda**"
      ]
    },
    {
      "cell_type": "code",
      "metadata": {
        "id": "F9N3C80HyUeF",
        "colab_type": "code",
        "colab": {}
      },
      "source": [
        "# Problema de Asignacion de tareas\n",
        "costes=[[11,12,18,40],\n",
        "        [14,15,13,22],\n",
        "        [11,17,19,23],\n",
        "        [17,14,20,28]]"
      ],
      "execution_count": 0,
      "outputs": []
    },
    {
      "cell_type": "code",
      "metadata": {
        "id": "vV1N0YbWygTX",
        "colab_type": "code",
        "outputId": "d20d0671-cd5a-4b91-c606-edcfd41bb7fb",
        "colab": {
          "base_uri": "https://localhost:8080/",
          "height": 34
        }
      },
      "source": [
        "def valor(s,costes):\n",
        "  valor = 0\n",
        "  for i in range(len(s)):\n",
        "    valor += costes[s[i]][i] \n",
        "  return valor\n",
        "  \n",
        "valor((0, 1, 2, 3),costes)"
      ],
      "execution_count": 0,
      "outputs": [
        {
          "output_type": "execute_result",
          "data": {
            "text/plain": [
              "73"
            ]
          },
          "metadata": {
            "tags": []
          },
          "execution_count": 6
        }
      ]
    },
    {
      "cell_type": "code",
      "metadata": {
        "id": "IgHQcwkC48v0",
        "colab_type": "code",
        "colab": {}
      },
      "source": [
        "import itertools"
      ],
      "execution_count": 0,
      "outputs": []
    },
    {
      "cell_type": "code",
      "metadata": {
        "id": "Shtbp2bM0Vz2",
        "colab_type": "code",
        "outputId": "b5f92e0b-2ce8-4d66-e877-abdfffb4bc4b",
        "colab": {
          "base_uri": "https://localhost:8080/",
          "height": 34
        }
      },
      "source": [
        "#Fuerza Bruta\n",
        "def fuerza_bruta(costes):\n",
        "  mejor_valor = 10e100\n",
        "  mejor_solucion = ()\n",
        "\n",
        "  for s in list(itertools.permutations(range(len(costes)))):\n",
        "    valor_tmp = valor(s,costes)\n",
        "    if valor_tmp < mejor_valor:\n",
        "      mejor_valor = valor_tmp\n",
        "      mejor_solucion = s\n",
        "  \n",
        "  print(\"La mejor solucion es: \", mejor_solucion,\" con valor:\", mejor_valor)\n",
        "\n",
        "fuerza_bruta(costes)"
      ],
      "execution_count": 0,
      "outputs": [
        {
          "output_type": "stream",
          "text": [
            "La mejor solucion es:  (0, 3, 1, 2)  con valor: 61\n"
          ],
          "name": "stdout"
        }
      ]
    },
    {
      "cell_type": "code",
      "metadata": {
        "id": "PPcPnoPE0LMd",
        "colab_type": "code",
        "colab": {}
      },
      "source": [
        "# Coste inferior para soluciones parciales\n",
        "# (1,3,) Se asigna la tarea 1 al agente 0 y la tarea 3 al agente 1\n",
        "\n",
        "def CI(s,costes):\n",
        "  valor = 0\n",
        "  #Valores establecidos\n",
        "  for i in range(len(s)):\n",
        "    valor += costes[i][s[i]]\n",
        "\n",
        "  #Estimacion\n",
        "  for i in range(len(costes)):\n",
        "    if i not in s:\n",
        "      valor += min([costes[j][i] for j in range(len(s),len(costes))])\n",
        "  return valor"
      ],
      "execution_count": 0,
      "outputs": []
    },
    {
      "cell_type": "code",
      "metadata": {
        "id": "g7CMgNmX1DgS",
        "colab_type": "code",
        "colab": {}
      },
      "source": [
        "#Genera tantos hijos como como posibilidades haya para la siguiente elemento de la tupla\n",
        "#(0,) -> (0,1), (0,2), (0,3)\n",
        "def crear_hijos(nodo, n):\n",
        "  hijos = []\n",
        "  for i in range(n):\n",
        "    if i not in nodo:\n",
        "      hijos.append({'s':nodo +(i,)})\n",
        "  return hijos"
      ],
      "execution_count": 0,
      "outputs": []
    },
    {
      "cell_type": "code",
      "metadata": {
        "id": "A2iXmqYt1oOh",
        "colab_type": "code",
        "colab": {}
      },
      "source": [
        "def CS(s,costes):\n",
        "  valor = 0\n",
        "  #Valores establecidos\n",
        "  for i in range(len(s)):\n",
        "    valor += costes[i][s[i]]\n",
        "\n",
        "  #Estimacion\n",
        "  for i in range(len(costes)):\n",
        "    if i not in s:\n",
        "      valor += max( [costes[j][i] for j in range(len(S), len(costes)) ])\n",
        "  return valor"
      ],
      "execution_count": 0,
      "outputs": []
    },
    {
      "cell_type": "code",
      "metadata": {
        "id": "XOZb0pCK2JjL",
        "colab_type": "code",
        "outputId": "614bbb9c-9305-4cd3-a1a3-a6a00abd3743",
        "colab": {
          "base_uri": "https://localhost:8080/",
          "height": 255
        }
      },
      "source": [
        "def ramificacion_y_poda(costes):\n",
        "#Construccion iterativa de soluciones(arbol). En cada etapa asignamos un agente(ramas).\n",
        "#Nodos del grafo  { s:(1,2),CI:3,CS:5  }\n",
        "  #print(costes)\n",
        "  dimension = len(costes)  \n",
        "  mejor_solucion=tuple( i for i in range(len(costes)) )\n",
        "  CotaSup = valor(mejor_solucion,costes)\n",
        "  #print(\"Cota Superior:\", CotaSup)\n",
        "\n",
        "  nodos=[]\n",
        "  nodos.append({'s':(),'ci':CI((),costes)} )\n",
        "\n",
        "  iteracion = 0\n",
        "\n",
        "  while( len(nodos) > 0):\n",
        "    iteracion +=1\n",
        "\n",
        "    nodo_prometedor = [ min(nodos, key=lambda x:x['ci'])][0]['s']\n",
        "    #print(\"Nodo prometedor:\", nodo_prometedor)\n",
        "\n",
        "    #Ramificacion\n",
        "    #Se generan los hijos\n",
        "    hijos = [{'s':x['s'],'ci':CI(x['s'], costes)} for x in crear_hijos(nodo_prometedor, dimension)]\n",
        "\n",
        "    #Revisamos la cota superior y nos quedamos con la mejor solucion si llegamos a una solucion final\n",
        "    nodo_final = [x for x in hijos if len(x['s']) == dimension]\n",
        "    if len(nodo_final) > 0: \n",
        "      #print(\"\\n********Soluciones:\",  [x for x in hijos if len(x['s']) == dimension])\n",
        "      if nodo_final[0]['ci'] < CotaSup:\n",
        "        CotaSup = nodo_final[0]['ci']\n",
        "        mejor_solucion = nodo_final\n",
        " \n",
        "    #Poda\n",
        "    hijos = [x for x in hijos if x['ci'] < CotaSup]\n",
        "\n",
        "    #Añadimos los hijos \n",
        "    nodos.extend(hijos) \n",
        "\n",
        "    #Eliminamos el nodo ramificado\n",
        "    nodos =  [x for x in nodos if x['s'] != nodo_prometedor]\n",
        "   \n",
        "    print(\"La solucion final es:\" ,mejor_solucion , \" en \" , iteracion , \" iteraciones\" , \" para dimension: \" ,dimension)\n",
        "      \n",
        "\n",
        "\n",
        "ramificacion_y_poda(costes)"
      ],
      "execution_count": 0,
      "outputs": [
        {
          "output_type": "stream",
          "text": [
            "La solucion final es: (0, 1, 2, 3)  en  1  iteraciones  para dimension:  4\n",
            "La solucion final es: (0, 1, 2, 3)  en  2  iteraciones  para dimension:  4\n",
            "La solucion final es: (0, 1, 2, 3)  en  3  iteraciones  para dimension:  4\n",
            "La solucion final es: (0, 1, 2, 3)  en  4  iteraciones  para dimension:  4\n",
            "La solucion final es: (0, 1, 2, 3)  en  5  iteraciones  para dimension:  4\n",
            "La solucion final es: [{'s': (0, 2, 3, 1), 'ci': 61}]  en  6  iteraciones  para dimension:  4\n",
            "La solucion final es: [{'s': (0, 2, 3, 1), 'ci': 61}]  en  7  iteraciones  para dimension:  4\n",
            "La solucion final es: [{'s': (0, 2, 3, 1), 'ci': 61}]  en  8  iteraciones  para dimension:  4\n",
            "La solucion final es: [{'s': (0, 2, 3, 1), 'ci': 61}]  en  9  iteraciones  para dimension:  4\n",
            "La solucion final es: [{'s': (0, 2, 3, 1), 'ci': 61}]  en  10  iteraciones  para dimension:  4\n",
            "La solucion final es: [{'s': (0, 2, 3, 1), 'ci': 61}]  en  11  iteraciones  para dimension:  4\n",
            "La solucion final es: [{'s': (0, 2, 3, 1), 'ci': 61}]  en  12  iteraciones  para dimension:  4\n",
            "La solucion final es: [{'s': (0, 2, 3, 1), 'ci': 61}]  en  13  iteraciones  para dimension:  4\n",
            "La solucion final es: [{'s': (0, 2, 3, 1), 'ci': 61}]  en  14  iteraciones  para dimension:  4\n"
          ],
          "name": "stdout"
        }
      ]
    }
  ]
}