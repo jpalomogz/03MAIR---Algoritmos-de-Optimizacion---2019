{
  "nbformat": 4,
  "nbformat_minor": 0,
  "metadata": {
    "colab": {
      "name": "Javier Palomo - Seminario.ipynb",
      "provenance": [],
      "collapsed_sections": [],
      "include_colab_link": true
    },
    "kernelspec": {
      "name": "python3",
      "display_name": "Python 3"
    }
  },
  "cells": [
    {
      "cell_type": "markdown",
      "metadata": {
        "id": "view-in-github",
        "colab_type": "text"
      },
      "source": [
        "<a href=\"https://colab.research.google.com/github/jpalomogz/03MAIR---Algoritmos-de-Optimizacion---2019/blob/master/Javier_Palomo_Seminario.ipynb\" target=\"_parent\"><img src=\"https://colab.research.google.com/assets/colab-badge.svg\" alt=\"Open In Colab\"/></a>"
      ]
    },
    {
      "cell_type": "markdown",
      "metadata": {
        "id": "hVbXYX-RfPWh",
        "colab_type": "text"
      },
      "source": [
        "# Algoritmos de optimización - Seminario<br>\n",
        "Nombre y Apellidos: Javier Palomo Gonzalez<br>\n",
        "Url: https://colab.research.google.com/drive/1lZ4qgyEnIUk6Q9HV7DPHuldvQRNcjrAD<br>\n",
        "Problema:\n",
        "\n",
        ">3. Combinar cifras y operaciones\n",
        "\n",
        "Descripción del problema:(copiar enunciado)\n",
        "\n",
        "El problema consiste en analizar el siguiente problema y diseñar un algoritmo que lo resuelva.\n",
        "\n",
        "*   Disponemos de las 9 cifras del 1 al 9 (excluimos el cero) y de los 4 signos básicos de las\n",
        "operaciones fundamentales: suma(+), resta(-), multiplicación(*) y división(/)\n",
        "*   Debemos combinarlos alternativamente sin repetir ninguno de ellos para obtener una cantidad dada. Un ejemplo sería para obtener el 4:<br>\n",
        "<br>\n",
        "4+2-6/3*1 = 4<br>\n",
        "<br>\n",
        "\n",
        "Debe analizarse el problema para encontrar todos los valores enteros posibles planteando las siguientes cuestiones:\n",
        "* ¿Qué valor máximo y mínimo se pueden obtener según las condiciones del problema?\n",
        "\n",
        "Se responde posteriormente en el codigo. Se vera que los valores maximos y minimos a los que se puede llegar son -69 y 77\n",
        "* ¿Es posible encontrar todos los valores enteros posibles entre dicho mínimo y máximo ?\n",
        "\n",
        "Se responde mas adelante en el codigo. Se comprueba que es posible.\n",
        "<br>\n",
        "\n",
        "• Nota: Es posible usar la función de python “eval” para evaluar una expresión:\n",
        "\n",
        "(*) La respuesta es obligatoria\n",
        "\n",
        "\n",
        "\n",
        "\n",
        "\n",
        "                                        "
      ]
    },
    {
      "cell_type": "markdown",
      "metadata": {
        "id": "3_-exlrTgLd-",
        "colab_type": "text"
      },
      "source": [
        "## **(*)¿Cuantas posibilidades hay sin tener en cuenta las restricciones?**<br> \n",
        "\n",
        "## **¿Cuantas posibilidades hay teniendo en cuenta todas las restricciones.**\n",
        "\n",
        "\n"
      ]
    },
    {
      "cell_type": "markdown",
      "metadata": {
        "id": "WfCUqJyKhPcw",
        "colab_type": "text"
      },
      "source": [
        "## Respuesta\n",
        "\n",
        "Sin tener en cuenta las restricción de no poder repetir numero ni operaciones las posibilidades pero usando solo 5 numeros entre el 1 y el 9 y 4 operaciones:\n",
        "\n",
        "Posibilidades$= 9*4*9*4*9*4*9*4*9 = 9^5 * 4^4 = 15.116.544$\n",
        "\n",
        "Teniendo en cuenta las restricciones las posibilidades se reducen a:\n",
        "\n",
        "Posibilidades$= 9*4*8*3*7*2*6*1*5 = \\frac{9!}{4!}*4! = 362.880$"
      ]
    },
    {
      "cell_type": "markdown",
      "metadata": {
        "id": "dzynfVJahHoY",
        "colab_type": "text"
      },
      "source": [
        "Modelo para el espacio de soluciones<br>\n",
        "(*) ¿Cual es la estructura de datos que mejor se adapta al problema? Argumentalo.(Es posible que hayas elegido una al principio y veas la necesidad de cambiar, arguentalo)\n"
      ]
    },
    {
      "cell_type": "markdown",
      "metadata": {
        "id": "xFIJrOwKi2Ti",
        "colab_type": "text"
      },
      "source": [
        "## Respuesta\n",
        "\n",
        "Las tecnicas que inicialmente usaria para el problema seria la de algoritmos voraces o la de vuelta atras\n",
        "\n",
        "Se me un problema a priori que se puede plantear por etapas, del que se parte de un numero inicial y en cada etapa se opera otro numero diferente, siendo cada operacion diferente y buscando llegar al resultado final.\n",
        "\n",
        "Con estos paso se busca el ir componiendo la ecuacion, teniendo presente la posibilidad de volver a pasos anteriores cuando el resultado se aleja en lugar de aproximarse"
      ]
    },
    {
      "cell_type": "markdown",
      "metadata": {
        "id": "7Z9U2W7bi-XS",
        "colab_type": "text"
      },
      "source": [
        "## **Según el modelo para el espacio de soluciones**<br>\n",
        "## **(*)¿Cual es la función objetivo?**\n",
        "\n",
        "## **(*)¿Es un problema de maximización o minimización?**"
      ]
    },
    {
      "cell_type": "markdown",
      "metadata": {
        "id": "hBalWLM7j1_d",
        "colab_type": "text"
      },
      "source": [
        "## Respuesta\n",
        "\n",
        "En nuestro caso no se trata de un problema de optimizacion. No dispone de funcion objetivo. Al no se run problema de optimizacion no es ni de maximizacion ni de minimizacion"
      ]
    },
    {
      "cell_type": "markdown",
      "metadata": {
        "id": "rlnTYgY1j6I2",
        "colab_type": "text"
      },
      "source": [
        "## **Diseña un algoritmo para resolver el problema por fuerza bruta**"
      ]
    },
    {
      "cell_type": "markdown",
      "metadata": {
        "id": "70rDgxYXkC8r",
        "colab_type": "text"
      },
      "source": [
        "## Respuesta"
      ]
    },
    {
      "cell_type": "code",
      "metadata": {
        "id": "CJb5sQ0qkENy",
        "colab_type": "code",
        "outputId": "7254da68-dfcd-43d0-abde-b9f3016aed09",
        "colab": {
          "base_uri": "https://localhost:8080/",
          "height": 68
        }
      },
      "source": [
        "def fuerza_bruta_max_min(sol):\n",
        "  numMax = 0\n",
        "  numMin = 100\n",
        "  numSol = 0\n",
        "  solFin = 'ninguna'\n",
        "  operaciones = ['+','-','*','/']\n",
        "  for i in range(1,10):\n",
        "    for j in range(1,10):\n",
        "      if j!=i:\n",
        "        for k in range(1,10):\n",
        "          if k!=i and k!=j:\n",
        "            for l in range(1,10):\n",
        "              if l!=i and l!=j and l!=k:\n",
        "                for m in range(1,10):\n",
        "                  if m!=i and m!=j and m!=k and m!=l:\n",
        "                    for a in operaciones:\n",
        "                      for b in operaciones:\n",
        "                        if a!=b:\n",
        "                          for c in operaciones:\n",
        "                            if c!=b and c!=a:\n",
        "                              for d in operaciones:\n",
        "                                if d!=a and d!=b and d!=c:\n",
        "                                  aux = eval(str(i)+a+str(j)+b+str(k)+c+str(l)+d+str(m))\n",
        "                                  if aux%1==0 and aux>numMax:\n",
        "                                    numMax = aux\n",
        "                                    solMax = str(i)+a+str(j)+b+str(k)+c+str(l)+d+str(m)\n",
        "                                  if aux%1==0 and aux<numMin:\n",
        "                                    numMin = aux\n",
        "                                    solMin = str(i)+a+str(j)+b+str(k)+c+str(l)+d+str(m)\n",
        "                                  if aux == sol:\n",
        "                                    numSol +=1\n",
        "                                    solFin = str(i)+a+str(j)+b+str(k)+c+str(l)+d+str(m)\n",
        "  print('Solucion maxima: ',solMax,'=',numMax)\n",
        "  print('Solucion minima: ',solMin,'=',numMin)\n",
        "  print('Se han encontrado ',numSol,'soluciones, entre ellas: ',solFin)\n",
        "fuerza_bruta_max_min(50)"
      ],
      "execution_count": 100,
      "outputs": [
        {
          "output_type": "stream",
          "text": [
            "Solucion maxima:  7/1-2+8*9 = 77.0\n",
            "Solucion minima:  1+4/2-8*9 = -69.0\n",
            "Se han encontrado  344 soluciones, entre ellas:  9+8*6-7/1\n"
          ],
          "name": "stdout"
        }
      ]
    },
    {
      "cell_type": "code",
      "metadata": {
        "id": "ZhJEYP3h7mQY",
        "colab_type": "code",
        "colab": {
          "base_uri": "https://localhost:8080/",
          "height": 1000
        },
        "outputId": "a1e419e3-e6e8-4a8a-96f7-f41f9a6b9e31"
      },
      "source": [
        "def fuerza_bruta(sol):\n",
        "  numSol = 0\n",
        "  solFin = 'ninguna'\n",
        "  operaciones = ['+','-','*','/']\n",
        "  for i in range(1,10):\n",
        "    for j in range(1,10):\n",
        "      if j!=i:\n",
        "        for k in range(1,10):\n",
        "          if k!=i and k!=j:\n",
        "            for l in range(1,10):\n",
        "              if l!=i and l!=j and l!=k:\n",
        "                for m in range(1,10):\n",
        "                  if m!=i and m!=j and m!=k and m!=l:\n",
        "                    for a in operaciones:\n",
        "                      for b in operaciones:\n",
        "                        if a!=b:\n",
        "                          for c in operaciones:\n",
        "                            if c!=b and c!=a:\n",
        "                              for d in operaciones:\n",
        "                                if d!=a and d!=b and d!=c:\n",
        "                                  aux = eval(str(i)+a+str(j)+b+str(k)+c+str(l)+d+str(m))\n",
        "                                  if aux == sol:\n",
        "                                    numSol +=1\n",
        "                                    solFin = str(i)+a+str(j)+b+str(k)+c+str(l)+d+str(m)\n",
        "  print('Para la solucion: ',sol,' se han encontrado ',numSol,'soluciones, entre ellas: ',solFin)\n",
        "\n",
        "for i in range(-69,77+1,1):\n",
        "  fuerza_bruta(i)"
      ],
      "execution_count": 106,
      "outputs": [
        {
          "output_type": "stream",
          "text": [
            "Para la solucion:  -69  se han encontrado  16 soluciones, entre ellas:  6/3-9*8+1\n",
            "Para la solucion:  -68  se han encontrado  16 soluciones, entre ellas:  6/3-9*8+2\n",
            "Para la solucion:  -67  se han encontrado  40 soluciones, entre ellas:  4/2-9*8+3\n",
            "Para la solucion:  -66  se han encontrado  48 soluciones, entre ellas:  6/3-9*8+4\n",
            "Para la solucion:  -65  se han encontrado  88 soluciones, entre ellas:  6/3-9*8+5\n",
            "Para la solucion:  -64  se han encontrado  80 soluciones, entre ellas:  6-9*8+4/2\n",
            "Para la solucion:  -63  se han encontrado  112 soluciones, entre ellas:  7-9*8+6/3\n",
            "Para la solucion:  -62  se han encontrado  72 soluciones, entre ellas:  7-9*8+6/2\n",
            "Para la solucion:  -61  se han encontrado  64 soluciones, entre ellas:  7-9*8+4/1\n",
            "Para la solucion:  -60  se han encontrado  56 soluciones, entre ellas:  8/4-9*7+1\n",
            "Para la solucion:  -59  se han encontrado  56 soluciones, entre ellas:  8/4-9*7+2\n",
            "Para la solucion:  -58  se han encontrado  56 soluciones, entre ellas:  8/4-9*7+3\n",
            "Para la solucion:  -57  se han encontrado  48 soluciones, entre ellas:  6/3-9*7+4\n",
            "Para la solucion:  -56  se han encontrado  104 soluciones, entre ellas:  8/4-9*7+5\n",
            "Para la solucion:  -55  se han encontrado  96 soluciones, entre ellas:  8/4-9*7+6\n",
            "Para la solucion:  -54  se han encontrado  72 soluciones, entre ellas:  8/2-9*7+5\n",
            "Para la solucion:  -53  se han encontrado  104 soluciones, entre ellas:  8-9*7+6/3\n",
            "Para la solucion:  -52  se han encontrado  96 soluciones, entre ellas:  9/3-8*7+1\n",
            "Para la solucion:  -51  se han encontrado  96 soluciones, entre ellas:  9/3-8*7+2\n",
            "Para la solucion:  -50  se han encontrado  88 soluciones, entre ellas:  8-9*7+5/1\n",
            "Para la solucion:  -49  se han encontrado  184 soluciones, entre ellas:  9/3-8*7+4\n",
            "Para la solucion:  -48  se han encontrado  120 soluciones, entre ellas:  9/3-8*7+5\n",
            "Para la solucion:  -47  se han encontrado  160 soluciones, entre ellas:  9/3-8*7+6\n",
            "Para la solucion:  -46  se han encontrado  72 soluciones, entre ellas:  8/2-9*6+4\n",
            "Para la solucion:  -45  se han encontrado  176 soluciones, entre ellas:  9-8*7+6/3\n",
            "Para la solucion:  -44  se han encontrado  120 soluciones, entre ellas:  9-8*7+6/2\n",
            "Para la solucion:  -43  se han encontrado  152 soluciones, entre ellas:  9-8*7+4/1\n",
            "Para la solucion:  -42  se han encontrado  152 soluciones, entre ellas:  9-8*7+5/1\n",
            "Para la solucion:  -41  se han encontrado  168 soluciones, entre ellas:  9-8*7+6/1\n",
            "Para la solucion:  -40  se han encontrado  96 soluciones, entre ellas:  9/3-8*6+5\n",
            "Para la solucion:  -39  se han encontrado  168 soluciones, entre ellas:  8-9*6+7/1\n",
            "Para la solucion:  -38  se han encontrado  104 soluciones, entre ellas:  9/3-8*6+7\n",
            "Para la solucion:  -37  se han encontrado  208 soluciones, entre ellas:  9-8*6+4/2\n",
            "Para la solucion:  -36  se han encontrado  208 soluciones, entre ellas:  9-8*6+3/1\n",
            "Para la solucion:  -35  se han encontrado  304 soluciones, entre ellas:  9-8*6+4/1\n",
            "Para la solucion:  -34  se han encontrado  208 soluciones, entre ellas:  9-8*6+5/1\n",
            "Para la solucion:  -33  se han encontrado  128 soluciones, entre ellas:  9/3-8*5+4\n",
            "Para la solucion:  -32  se han encontrado  200 soluciones, entre ellas:  9-8*6+7/1\n",
            "Para la solucion:  -31  se han encontrado  296 soluciones, entre ellas:  9+8/4-7*6\n",
            "Para la solucion:  -30  se han encontrado  264 soluciones, entre ellas:  9-7*6+3/1\n",
            "Para la solucion:  -29  se han encontrado  288 soluciones, entre ellas:  9-8*5+6/3\n",
            "Para la solucion:  -28  se han encontrado  256 soluciones, entre ellas:  9-8*5+6/2\n",
            "Para la solucion:  -27  se han encontrado  288 soluciones, entre ellas:  9-8*5+4/1\n",
            "Para la solucion:  -26  se han encontrado  184 soluciones, entre ellas:  9/3-7*5+6\n",
            "Para la solucion:  -25  se han encontrado  376 soluciones, entre ellas:  9+8-7*6/1\n",
            "Para la solucion:  -24  se han encontrado  352 soluciones, entre ellas:  9-8*5+7/1\n",
            "Para la solucion:  -23  se han encontrado  376 soluciones, entre ellas:  9-7*5+6/2\n",
            "Para la solucion:  -22  se han encontrado  176 soluciones, entre ellas:  9+8/2-7*5\n",
            "Para la solucion:  -21  se han encontrado  336 soluciones, entre ellas:  9-8*4+6/3\n",
            "Para la solucion:  -20  se han encontrado  384 soluciones, entre ellas:  9-8*4+6/2\n",
            "Para la solucion:  -19  se han encontrado  416 soluciones, entre ellas:  9+8/4-6*5\n",
            "Para la solucion:  -18  se han encontrado  440 soluciones, entre ellas:  9+8-7*5/1\n",
            "Para la solucion:  -17  se han encontrado  488 soluciones, entre ellas:  9-8*4+6/1\n",
            "Para la solucion:  -16  se han encontrado  432 soluciones, entre ellas:  9-8*7/2+3\n",
            "Para la solucion:  -15  se han encontrado  552 soluciones, entre ellas:  9-8*7/2+4\n",
            "Para la solucion:  -14  se han encontrado  504 soluciones, entre ellas:  9-8*7/2+5\n",
            "Para la solucion:  -13  se han encontrado  552 soluciones, entre ellas:  9-8*7/2+6\n",
            "Para la solucion:  -12  se han encontrado  512 soluciones, entre ellas:  9-8*6/2+3\n",
            "Para la solucion:  -11  se han encontrado  648 soluciones, entre ellas:  9+8-7*4/1\n",
            "Para la solucion:  -10  se han encontrado  624 soluciones, entre ellas:  9-8*6/2+5\n",
            "Para la solucion:  -9  se han encontrado  768 soluciones, entre ellas:  9-8*3+6/1\n",
            "Para la solucion:  -8  se han encontrado  680 soluciones, entre ellas:  9-8*6/2+7\n",
            "Para la solucion:  -7  se han encontrado  960 soluciones, entre ellas:  9+8-6*4/1\n",
            "Para la solucion:  -6  se han encontrado  736 soluciones, entre ellas:  9-8*6/3+1\n",
            "Para la solucion:  -5  se han encontrado  1136 soluciones, entre ellas:  9-8*6/3+2\n",
            "Para la solucion:  -4  se han encontrado  1096 soluciones, entre ellas:  9+8-7*6/2\n",
            "Para la solucion:  -3  se han encontrado  1232 soluciones, entre ellas:  9-8*7/4+2\n",
            "Para la solucion:  -2  se han encontrado  1272 soluciones, entre ellas:  9-8*7/4+3\n",
            "Para la solucion:  -1  se han encontrado  1688 soluciones, entre ellas:  9-8*6/4+2\n",
            "Para la solucion:  0  se han encontrado  1888 soluciones, entre ellas:  9-8*7/4+5\n",
            "Para la solucion:  1  se han encontrado  2008 soluciones, entre ellas:  9-8*7/4+6\n",
            "Para la solucion:  2  se han encontrado  1688 soluciones, entre ellas:  9+8-6*5/2\n",
            "Para la solucion:  3  se han encontrado  1952 soluciones, entre ellas:  9+8-7*6/3\n",
            "Para la solucion:  4  se han encontrado  2112 soluciones, entre ellas:  9-8*6/4+7\n",
            "Para la solucion:  5  se han encontrado  2880 soluciones, entre ellas:  9+8-6*4/2\n",
            "Para la solucion:  6  se han encontrado  2200 soluciones, entre ellas:  9*8/6-7+1\n",
            "Para la solucion:  7  se han encontrado  2824 soluciones, entre ellas:  9*8/6-7+2\n",
            "Para la solucion:  8  se han encontrado  2376 soluciones, entre ellas:  9*8/6-7+3\n",
            "Para la solucion:  9  se han encontrado  2584 soluciones, entre ellas:  9*8/6-7+4\n",
            "Para la solucion:  10  se han encontrado  2120 soluciones, entre ellas:  9*8/6-7+5\n",
            "Para la solucion:  11  se han encontrado  2256 soluciones, entre ellas:  9*8/6-5+4\n",
            "Para la solucion:  12  se han encontrado  1512 soluciones, entre ellas:  9-8/6*3+7\n",
            "Para la solucion:  13  se han encontrado  2160 soluciones, entre ellas:  9*8/6+5-4\n",
            "Para la solucion:  14  se han encontrado  1880 soluciones, entre ellas:  9*8/6+7-5\n",
            "Para la solucion:  15  se han encontrado  1800 soluciones, entre ellas:  9-8+7*6/3\n",
            "Para la solucion:  16  se han encontrado  1568 soluciones, entre ellas:  9*8/6+7-3\n",
            "Para la solucion:  17  se han encontrado  1928 soluciones, entre ellas:  9+8*7/4-6\n",
            "Para la solucion:  18  se han encontrado  1344 soluciones, entre ellas:  9+8*7/4-5\n",
            "Para la solucion:  19  se han encontrado  1616 soluciones, entre ellas:  9+8*6/4-2\n",
            "Para la solucion:  20  se han encontrado  1344 soluciones, entre ellas:  9+8*7/4-3\n",
            "Para la solucion:  21  se han encontrado  1224 soluciones, entre ellas:  9+8*7/4-2\n",
            "Para la solucion:  22  se han encontrado  1352 soluciones, entre ellas:  9-8+7*6/2\n",
            "Para la solucion:  23  se han encontrado  1208 soluciones, entre ellas:  9+8*6/3-2\n",
            "Para la solucion:  24  se han encontrado  784 soluciones, entre ellas:  9+8*6/3-1\n",
            "Para la solucion:  25  se han encontrado  1312 soluciones, entre ellas:  9-8+6*4/1\n",
            "Para la solucion:  26  se han encontrado  1048 soluciones, entre ellas:  9+8*6/2-7\n",
            "Para la solucion:  27  se han encontrado  680 soluciones, entre ellas:  9*8/3+7-4\n",
            "Para la solucion:  28  se han encontrado  808 soluciones, entre ellas:  9+8*6/2-5\n",
            "Para la solucion:  29  se han encontrado  976 soluciones, entre ellas:  9-8+7*4/1\n",
            "Para la solucion:  30  se han encontrado  752 soluciones, entre ellas:  9+8*6/2-3\n",
            "Para la solucion:  31  se han encontrado  880 soluciones, entre ellas:  9+8*7/2-6\n",
            "Para la solucion:  32  se han encontrado  472 soluciones, entre ellas:  9+8*7/2-5\n",
            "Para la solucion:  33  se han encontrado  648 soluciones, entre ellas:  9+8*7/2-4\n",
            "Para la solucion:  34  se han encontrado  704 soluciones, entre ellas:  9+8*7/2-3\n",
            "Para la solucion:  35  se han encontrado  688 soluciones, entre ellas:  9+8*4-6/1\n",
            "Para la solucion:  36  se han encontrado  560 soluciones, entre ellas:  9-8+7*5/1\n",
            "Para la solucion:  37  se han encontrado  616 soluciones, entre ellas:  9-8/4+6*5\n",
            "Para la solucion:  38  se han encontrado  488 soluciones, entre ellas:  9+8*4-6/2\n",
            "Para la solucion:  39  se han encontrado  568 soluciones, entre ellas:  9+8*4-6/3\n",
            "Para la solucion:  40  se han encontrado  400 soluciones, entre ellas:  9-8/2+7*5\n",
            "Para la solucion:  41  se han encontrado  680 soluciones, entre ellas:  9*8/2+6-1\n",
            "Para la solucion:  42  se han encontrado  376 soluciones, entre ellas:  9+8*5-7/1\n",
            "Para la solucion:  43  se han encontrado  488 soluciones, entre ellas:  9-8+7*6/1\n",
            "Para la solucion:  44  se han encontrado  424 soluciones, entre ellas:  9*5-8+7/1\n",
            "Para la solucion:  45  se han encontrado  304 soluciones, entre ellas:  9+8*5-4/1\n",
            "Para la solucion:  46  se han encontrado  432 soluciones, entre ellas:  9+8*5-6/2\n",
            "Para la solucion:  47  se han encontrado  376 soluciones, entre ellas:  9+8*5-6/3\n",
            "Para la solucion:  48  se han encontrado  192 soluciones, entre ellas:  9+7*6-3/1\n",
            "Para la solucion:  49  se han encontrado  424 soluciones, entre ellas:  9-8/4+7*6\n",
            "Para la solucion:  50  se han encontrado  344 soluciones, entre ellas:  9+8*6-7/1\n",
            "Para la solucion:  51  se han encontrado  280 soluciones, entre ellas:  9*6-8+5/1\n",
            "Para la solucion:  52  se han encontrado  240 soluciones, entre ellas:  9+8*6-5/1\n",
            "Para la solucion:  53  se han encontrado  368 soluciones, entre ellas:  9+8*6-4/1\n",
            "Para la solucion:  54  se han encontrado  200 soluciones, entre ellas:  9+8*6-3/1\n",
            "Para la solucion:  55  se han encontrado  392 soluciones, entre ellas:  9+8*6-4/2\n",
            "Para la solucion:  56  se han encontrado  128 soluciones, entre ellas:  9*6+7-5/1\n",
            "Para la solucion:  57  se han encontrado  352 soluciones, entre ellas:  9*7-8+6/3\n",
            "Para la solucion:  58  se han encontrado  240 soluciones, entre ellas:  9*7-8+6/2\n",
            "Para la solucion:  59  se han encontrado  280 soluciones, entre ellas:  9+8*7-6/1\n",
            "Para la solucion:  60  se han encontrado  240 soluciones, entre ellas:  9+8*7-5/1\n",
            "Para la solucion:  61  se han encontrado  192 soluciones, entre ellas:  9+8*7-4/1\n",
            "Para la solucion:  62  se han encontrado  232 soluciones, entre ellas:  9+8*7-6/2\n",
            "Para la solucion:  63  se han encontrado  112 soluciones, entre ellas:  9+8*7-6/3\n",
            "Para la solucion:  64  se han encontrado  192 soluciones, entre ellas:  9*7-8/4+3\n",
            "Para la solucion:  65  se han encontrado  160 soluciones, entre ellas:  9*7+8-6/1\n",
            "Para la solucion:  66  se han encontrado  128 soluciones, entre ellas:  9*7+8-5/1\n",
            "Para la solucion:  67  se han encontrado  128 soluciones, entre ellas:  9*8-7+6/3\n",
            "Para la solucion:  68  se han encontrado  120 soluciones, entre ellas:  9*8-7+6/2\n",
            "Para la solucion:  69  se han encontrado  160 soluciones, entre ellas:  9*8-7+4/1\n",
            "Para la solucion:  70  se han encontrado  152 soluciones, entre ellas:  9*8-7+5/1\n",
            "Para la solucion:  71  se han encontrado  192 soluciones, entre ellas:  9*8-7+6/1\n",
            "Para la solucion:  72  se han encontrado  32 soluciones, entre ellas:  9*8-6/3+2\n",
            "Para la solucion:  73  se han encontrado  192 soluciones, entre ellas:  9*8+7-6/1\n",
            "Para la solucion:  74  se han encontrado  152 soluciones, entre ellas:  9*8+7-5/1\n",
            "Para la solucion:  75  se han encontrado  112 soluciones, entre ellas:  9*8+7-4/1\n",
            "Para la solucion:  76  se han encontrado  80 soluciones, entre ellas:  9*8+7-6/2\n",
            "Para la solucion:  77  se han encontrado  48 soluciones, entre ellas:  9*8+7-6/3\n"
          ],
          "name": "stdout"
        }
      ]
    },
    {
      "cell_type": "markdown",
      "metadata": {
        "id": "tgrnsC2nkFa8",
        "colab_type": "text"
      },
      "source": [
        "## **Calcula la complejidad del algoritmo por fuerza bruta**"
      ]
    },
    {
      "cell_type": "markdown",
      "metadata": {
        "id": "9eUd3xwckP68",
        "colab_type": "text"
      },
      "source": [
        "## Respuesta\n",
        "\n",
        "Se trataria de una complejidad constante puesto que los numeros a tratar son del 1 al 9 y las operaciones unicamente las 4 elementales y ningun de los numeros ni de las operaciones puede repetir"
      ]
    },
    {
      "cell_type": "markdown",
      "metadata": {
        "id": "txbrmLmskReM",
        "colab_type": "text"
      },
      "source": [
        "## **(*)Diseña un algoritmo que mejore la complejidad del algortimo por fuerza bruta. Argumenta porque crees que mejora el algoritmo por fuerza bruta**"
      ]
    },
    {
      "cell_type": "markdown",
      "metadata": {
        "id": "hLrVwt5QkZPD",
        "colab_type": "text"
      },
      "source": [
        "## Respuesta"
      ]
    },
    {
      "cell_type": "code",
      "metadata": {
        "id": "zRYLsBNPq-4a",
        "colab_type": "code",
        "outputId": "2757d512-2f28-40ce-b4af-b1fdd8315947",
        "colab": {
          "base_uri": "https://localhost:8080/",
          "height": 34
        }
      },
      "source": [
        "def decimal (num):\n",
        "  return(num - (num//1))\n",
        "\n",
        "def busquedaDiv (num):\n",
        "  solDivPos = []\n",
        "  solDivNeg = []\n",
        "  for i in range(1,10):\n",
        "    for j in range(1,10):\n",
        "      if i!=j and decimal(num)==decimal(i/j):\n",
        "        solDivPos.append([i,j])\n",
        "      if i!=j and decimal(num)==1-decimal(i/j):\n",
        "        solDivNeg.append([i,j])\n",
        "  return solDivPos,solDivNeg\n",
        "\n",
        "def valoracion (solNum,solOp,num):\n",
        "  aux = eval(str(solNum[0])+solOp[0]+str(solNum[1])+solOp[1]+str(solNum[2])+solOp[2]+str(solNum[3])+solOp[3]+str(solNum[4]))\n",
        "  if(aux==num):\n",
        "    return True\n",
        "  else:\n",
        "    return False\n",
        "\n",
        "def completarEc(solNum,solOp,num):\n",
        "  operaciones = ['+','-','*','/']\n",
        "  for j in range (1,10):\n",
        "    if not(j in solNum):\n",
        "      solNum[0]=j\n",
        "      for k in range (1,10):\n",
        "        if not(k in solNum):\n",
        "          solNum[1]=k\n",
        "          for l in range (1,10):\n",
        "            if not(l in solNum):\n",
        "              solNum[2]=l\n",
        "              for a in operaciones:\n",
        "                if not(a in solOp):\n",
        "                  solOp[0]=a\n",
        "                  for c in operaciones:\n",
        "                    #if not(c in solOp): comento esta linea porque debida a ella me da error inexplicablemente. Si la descomentas lo veras. Esta linea completa la validacion para que el signo no se repita\n",
        "                      solOp[1]=c\n",
        "                      if valoracion (solNum,solOp,num):\n",
        "                        return solNum,solOp\n",
        "\n",
        "def ecuacion(num):\n",
        "  solNum=[0,0,0,0,0]\n",
        "  solOp=['','','','']\n",
        "  solPos, solNeg = busquedaDiv(num)\n",
        "  for i in solNeg:\n",
        "    solNum[3]=i[0]\n",
        "    solNum[4]=i[1]\n",
        "    solOp[3]='/'\n",
        "    solOp[2]='-'\n",
        "    solNum,solOp = completarEc(solNum,solOp,num)\n",
        "    if valoracion(solNum,solOp,num):\n",
        "      return str(solNum[0])+solOp[0]+str(solNum[1])+solOp[1]+str(solNum[2])+solOp[2]+str(solNum[3])+solOp[3]+str(solNum[4])\n",
        "  for i in solPos:\n",
        "    solNum[3]=i[0]\n",
        "    solNum[4]=i[1]\n",
        "    solOp[3]='/'\n",
        "    solOp[2]='+'\n",
        "    solNum,solOp = completarEc(solNum,solOp,num)\n",
        "    if valoracion(solNum,solOp,num):\n",
        "      print(solNum,solOp)\n",
        "      return str(solNum[0])+solOp[0]+str(solNum[1])+solOp[1]+str(solNum[2])+solOp[2]+str(solNum[3])+solOp[3]+str(solNum[4])\n",
        "    \n",
        "\n",
        "print(ecuacion(50.25))"
      ],
      "execution_count": 108,
      "outputs": [
        {
          "output_type": "stream",
          "text": [
            "6+5*9-3/4\n"
          ],
          "name": "stdout"
        }
      ]
    },
    {
      "cell_type": "markdown",
      "metadata": {
        "id": "eGDB4K6uk1iN",
        "colab_type": "text"
      },
      "source": [
        "## **(*)Calcula la complejidad del algoritmo**"
      ]
    },
    {
      "cell_type": "markdown",
      "metadata": {
        "id": "NhpTh_BPk1ms",
        "colab_type": "text"
      },
      "source": [
        "## Respuesta\n",
        "\n",
        "Al igual que el caso anterior, se trataria de una complejidad constante puesto que los numeros a tratar son del 1 al 9 y las operaciones unicamente las 4 elementales y ningun de los numeros ni de las operaciones puede repetir.\n",
        "\n",
        "En este caso, la complejidad es claramente menor debido a que el numero de for anidados se reduce considerablemente"
      ]
    },
    {
      "cell_type": "markdown",
      "metadata": {
        "id": "3M6QjTsSkmYe",
        "colab_type": "text"
      },
      "source": [
        "## **Según el problema (y tenga sentido), diseña un juego de datos de entrada aleatorios**"
      ]
    },
    {
      "cell_type": "markdown",
      "metadata": {
        "id": "Jc3_OlyNkvjZ",
        "colab_type": "text"
      },
      "source": [
        "## Respuesta\n",
        "\n",
        "Para este problema, el juego de datos es cualquier numero"
      ]
    },
    {
      "cell_type": "markdown",
      "metadata": {
        "id": "zy5ZROmjlGo1",
        "colab_type": "text"
      },
      "source": [
        "## **Aplica el algoritmo al juego de datos generado**"
      ]
    },
    {
      "cell_type": "markdown",
      "metadata": {
        "id": "_Cmj-PVylMsa",
        "colab_type": "text"
      },
      "source": [
        "## Respuesta\n",
        "\n",
        "No aplica"
      ]
    },
    {
      "cell_type": "markdown",
      "metadata": {
        "colab_type": "text",
        "id": "eTFWUJQrtGcv"
      },
      "source": [
        "## **Enumera las referencias que has utilizado(si ha sido necesario) para llevar a cabo el trabajo**"
      ]
    },
    {
      "cell_type": "markdown",
      "metadata": {
        "id": "YKQ_mRBttWsP",
        "colab_type": "text"
      },
      "source": [
        "## Respuesta\n",
        "\n",
        "No se han usado referencias"
      ]
    },
    {
      "cell_type": "markdown",
      "metadata": {
        "id": "kAkDPUyRtYyH",
        "colab_type": "text"
      },
      "source": [
        "## **Describe brevemente las lineas de como crees que es posible avanzar en el estudio del problema. Ten en cuenta incluso posibles variaciones del problema y/o variaciones al alza del tamaño**"
      ]
    },
    {
      "cell_type": "markdown",
      "metadata": {
        "id": "IE0uZmo-tZu-",
        "colab_type": "text"
      },
      "source": [
        "## Respuesta\n",
        "\n",
        "La posible variacion del problema seria en lugar de cifras del 1 al 9 aumentar en este aspecto el rango.\n",
        "\n",
        "Con ello el coste computacional del problema seria constante pero con unos bucles mas pesados.\n",
        "\n",
        "El avance para esta variacion seria posiblemnte pasar el problema hacia descenso de gradiente, analizando el impacto de la modificacion de cda una de las cifras.\n",
        "\n",
        "Otra posible solucion podria ser llevarlo hacia metodo heuristicos con un error casi nulo"
      ]
    }
  ]
}