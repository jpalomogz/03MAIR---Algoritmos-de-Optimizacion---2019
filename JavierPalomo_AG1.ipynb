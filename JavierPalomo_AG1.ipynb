{
  "nbformat": 4,
  "nbformat_minor": 0,
  "metadata": {
    "colab": {
      "name": "JavierPalomo-AG1.ipynb",
      "provenance": [],
      "collapsed_sections": [],
      "include_colab_link": true
    },
    "kernelspec": {
      "name": "python3",
      "display_name": "Python 3"
    }
  },
  "cells": [
    {
      "cell_type": "markdown",
      "metadata": {
        "id": "view-in-github",
        "colab_type": "text"
      },
      "source": [
        "<a href=\"https://colab.research.google.com/github/jpalomogz/03MAIR---Algoritmos-de-Optimizacion---2019/blob/master/JavierPalomo_AG1.ipynb\" target=\"_parent\"><img src=\"https://colab.research.google.com/assets/colab-badge.svg\" alt=\"Open In Colab\"/></a>"
      ]
    },
    {
      "cell_type": "markdown",
      "metadata": {
        "id": "9gkxKGENowoZ",
        "colab_type": "text"
      },
      "source": [
        "AG1. Algoritmos de optimización</br>\n",
        "Javier Palomo Gonzalez</br>\n",
        "https://colab.research.google.com/drive/1LjzJmU88S-WDP-H_oW_DWFCoHieCGb0M"
      ]
    },
    {
      "cell_type": "markdown",
      "metadata": {
        "id": "Zz21C1Zy40Xq",
        "colab_type": "text"
      },
      "source": [
        "# **Torres de Hanoy**"
      ]
    },
    {
      "cell_type": "code",
      "metadata": {
        "id": "RS2BFHbzqKBL",
        "colab_type": "code",
        "outputId": "fc61e8c5-a0f4-4b71-d66c-34665561dada",
        "colab": {
          "base_uri": "https://localhost:8080/",
          "height": 136
        }
      },
      "source": [
        "def torres(N,desde,hasta):\n",
        "  if N ==1:\n",
        "    print(\"lleva la ficha desde \",desde,\" hasta \", hasta)\n",
        "  else:\n",
        "    torres(N-1, desde, 6-desde-hasta)\n",
        "    print(\"lleva la ficha desde \",desde,\" hasta \", hasta)\n",
        "    torres(N-1, 6-desde-hasta, hasta)\n",
        "\n",
        "\n",
        "torres(3,1,3)"
      ],
      "execution_count": 0,
      "outputs": [
        {
          "output_type": "stream",
          "text": [
            "lleva la ficha desde  1  hasta  3\n",
            "lleva la ficha desde  1  hasta  2\n",
            "lleva la ficha desde  3  hasta  2\n",
            "lleva la ficha desde  1  hasta  3\n",
            "lleva la ficha desde  2  hasta  1\n",
            "lleva la ficha desde  2  hasta  3\n",
            "lleva la ficha desde  1  hasta  3\n"
          ],
          "name": "stdout"
        }
      ]
    },
    {
      "cell_type": "markdown",
      "metadata": {
        "id": "1rWFwsMW4_QU",
        "colab_type": "text"
      },
      "source": [
        "# **Las 4 Reinas**"
      ]
    },
    {
      "cell_type": "code",
      "metadata": {
        "id": "5mEVGfzvQ3yK",
        "colab_type": "code",
        "outputId": "98f99eaa-31ab-41dd-8c70-6bec94c8982d",
        "colab": {
          "base_uri": "https://localhost:8080/",
          "height": 51
        }
      },
      "source": [
        "def es_prometedora(respuesta, paso):\n",
        "  #print('inicio es_prometedora', paso, respuesta)\n",
        "  if respuesta.count(respuesta[paso])>1:\n",
        "    #print('fin es_prometedora')\n",
        "    return False\n",
        "  for i in range(0,paso+1):\n",
        "    #print(i,' y ',paso)\n",
        "    if i != paso:\n",
        "      #print('abs(paso-i) =',abs(paso-i))\n",
        "      #print('abs(respuesta[paso]-respuesta[i]) = ',abs(respuesta[paso]-respuesta[i]))\n",
        "      if abs(paso-i)==abs(respuesta[paso]-respuesta[i]):\n",
        "        #print('fin es_prometedora')\n",
        "        return False\n",
        "    #else:\n",
        "      #print('pasa por el else')\n",
        "  #print(respuesta)\n",
        "  #print('fin es_prometedora')\n",
        "  return True\n",
        "\n",
        "\n",
        "def reinas(solucion, etapa):\n",
        "  for i in range(1,len(solucion)+1):   \n",
        "    solucion[etapa] = i\n",
        "    #print(solucion,etapa)\n",
        "    if es_prometedora(solucion,etapa):\n",
        "      if etapa == len(solucion)-1:\n",
        "        print('Eureka', solucion)\n",
        "      else:\n",
        "        reinas(solucion,etapa+1)\n",
        "    solucion[etapa] = 0\n",
        "\n",
        "\n",
        "solucion = [0,0,0,0]\n",
        "etapa = 0\n",
        "\n",
        "reinas(solucion,etapa)"
      ],
      "execution_count": 0,
      "outputs": [
        {
          "output_type": "stream",
          "text": [
            "Eureka [2, 4, 1, 3]\n",
            "Eureka [3, 1, 4, 2]\n"
          ],
          "name": "stdout"
        }
      ]
    },
    {
      "cell_type": "markdown",
      "metadata": {
        "id": "WcjW7zPx4SOo",
        "colab_type": "text"
      },
      "source": [
        "# **Problema puntos mas cercanos**\n",
        "\n",
        "Se comienza planteando para 1D\n"
      ]
    },
    {
      "cell_type": "code",
      "metadata": {
        "id": "_a-cOUKpwGoi",
        "colab_type": "code",
        "outputId": "c011c953-f4f7-4aa7-c68a-394fe0ab590d",
        "colab": {
          "base_uri": "https://localhost:8080/",
          "height": 34
        }
      },
      "source": [
        "import random\n",
        "\n",
        "def distancia1D(punto1,punto2):\n",
        "  return abs(punto2-punto1)\n",
        "\n",
        "def puntosMasCercanosFuerzaBruta(puntos):\n",
        "  solucion = [puntos[0],puntos[1]]\n",
        "  distancia = distancia1D(solucion[0],solucion[1])\n",
        "  for i in range(len(puntos)):\n",
        "    for j in range(i+1,len(puntos)):\n",
        "      if distancia1D(puntos[i],puntos[j])<distancia:\n",
        "        distancia = distancia1D(puntos[i],puntos[j])\n",
        "        solucion = [puntos[i],puntos[j]]\n",
        "  print(solucion,distancia)\n",
        "\n",
        "lista = [random.randrange(1,10000000) for x in range(1000)]\n",
        "puntosMasCercanosFuerzaBruta(lista)"
      ],
      "execution_count": 0,
      "outputs": [
        {
          "output_type": "stream",
          "text": [
            "[2779455, 2779458] 3\n"
          ],
          "name": "stdout"
        }
      ]
    },
    {
      "cell_type": "markdown",
      "metadata": {
        "id": "XTm94PI-210V",
        "colab_type": "text"
      },
      "source": [
        "La complejidad de dicha solucion es la siguiente:\n",
        "\n",
        "n * ((n-1)/2) <br>\n",
        "(se aplica (n-1)/2 puesto que es el valor medio de la segunda iteracion ya que iterara de n-1 en la primera iteracion hasta 0 en la ultima)"
      ]
    },
    {
      "cell_type": "code",
      "metadata": {
        "id": "_iuB4DuC3bHB",
        "colab_type": "code",
        "colab": {}
      },
      "source": [
        ""
      ],
      "execution_count": 0,
      "outputs": []
    }
  ]
}